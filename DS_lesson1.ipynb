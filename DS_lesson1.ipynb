{
 "cells": [
  {
   "cell_type": "markdown",
   "id": "a3b814e2-0b12-4ffc-9701-25be63c3ed71",
   "metadata": {},
   "source": [
    "## Вычисления с помощью Numpy"
   ]
  },
  {
   "cell_type": "markdown",
   "id": "53032445-ab53-4c50-9381-0b1177f8f6b7",
   "metadata": {},
   "source": [
    "#### №1"
   ]
  },
  {
   "cell_type": "code",
   "execution_count": 1,
   "id": "66fcd6f5-527b-44b0-92c1-7358efd9cde5",
   "metadata": {},
   "outputs": [
    {
     "data": {
      "text/plain": [
       "array([2. , 8.4])"
      ]
     },
     "execution_count": 1,
     "metadata": {},
     "output_type": "execute_result"
    }
   ],
   "source": [
    "import numpy as np\n",
    "a = np.array([[1, 6], [2, 8], [3, 11], [3, 10], [1, 7]])\n",
    "mean_a = a.mean(axis=0)\n",
    "mean_a"
   ]
  },
  {
   "cell_type": "markdown",
   "id": "89eb304b-cd2e-4cfe-9eb7-9089fd7c155b",
   "metadata": {},
   "source": [
    "#### №2"
   ]
  },
  {
   "cell_type": "code",
   "execution_count": 2,
   "id": "6d6fa2e8-e817-42d7-ae70-55e7bcdd9e04",
   "metadata": {},
   "outputs": [
    {
     "data": {
      "text/plain": [
       "(5, 2)"
      ]
     },
     "execution_count": 2,
     "metadata": {},
     "output_type": "execute_result"
    }
   ],
   "source": [
    "a_centered = a - mean_a\n",
    "a_centered.shape"
   ]
  },
  {
   "cell_type": "markdown",
   "id": "d3c7103a-c975-4572-bc2d-3dad8b033164",
   "metadata": {},
   "source": [
    "#### №3\n"
   ]
  },
  {
   "cell_type": "code",
   "execution_count": 3,
   "id": "ee359c58-a839-4f51-a809-d1abe41dbe79",
   "metadata": {},
   "outputs": [
    {
     "data": {
      "text/plain": [
       "2.0"
      ]
     },
     "execution_count": 3,
     "metadata": {},
     "output_type": "execute_result"
    }
   ],
   "source": [
    "a_cenetered_sp = a_centered[:, 0] @ a_centered[:, 1]\n",
    "a_cov = a_cenetered_sp / (a.shape[0] - 1)\n",
    "a_cov"
   ]
  },
  {
   "cell_type": "markdown",
   "id": "996911a4-8096-48d8-841d-bab699c6f770",
   "metadata": {},
   "source": [
    "#### №4"
   ]
  },
  {
   "cell_type": "code",
   "execution_count": 4,
   "id": "53b31e4f-3208-4e1b-bd28-df78ce3b10e5",
   "metadata": {},
   "outputs": [
    {
     "data": {
      "text/plain": [
       "2.0"
      ]
     },
     "execution_count": 4,
     "metadata": {},
     "output_type": "execute_result"
    }
   ],
   "source": [
    "a_cov_2 = np.cov(a.T)[0, 1]\n",
    "a_cov_2"
   ]
  },
  {
   "cell_type": "markdown",
   "id": "6097a4a3-3036-4187-8c92-c4dd332b1a2a",
   "metadata": {},
   "source": [
    "## Работа с данными в Pandas"
   ]
  },
  {
   "cell_type": "markdown",
   "id": "ee138e7f-de59-40ba-9cd7-314f7886686a",
   "metadata": {},
   "source": [
    "#### №1"
   ]
  },
  {
   "cell_type": "code",
   "execution_count": 5,
   "id": "65e3fe79-8091-4fd8-8bed-a2a5fde85b78",
   "metadata": {},
   "outputs": [],
   "source": [
    "import pandas as pd\n",
    "authors = pd.DataFrame({\n",
    "    \"author_id\": [1, 2, 3],\n",
    "    \"author_name\": [\"Тургеньев\", \"Чехов\", \"Островский\"]\n",
    "})\n",
    "\n",
    "books = pd.DataFrame({\n",
    "    \"author_id\": [1, 1, 1, 2, 2, 3, 3],\n",
    "    \"book_title\": ['Отцы и дети', 'Рудин', 'Дворянское гнездо', 'Толстый и тонкий', 'Дама с собачкой', 'Гроза', 'Таланты и поклонники'],\n",
    "    \"price\": [450, 300, 350, 500, 450, 370, 290]\n",
    "})"
   ]
  },
  {
   "cell_type": "markdown",
   "id": "60ecd84b-24f4-4b7c-a071-f11c713f3683",
   "metadata": {},
   "source": [
    "#### №2\n"
   ]
  },
  {
   "cell_type": "code",
   "execution_count": 6,
   "id": "7ac09850-40fe-4d17-92d8-f7896781a952",
   "metadata": {},
   "outputs": [
    {
     "data": {
      "text/html": [
       "<div>\n",
       "<style scoped>\n",
       "    .dataframe tbody tr th:only-of-type {\n",
       "        vertical-align: middle;\n",
       "    }\n",
       "\n",
       "    .dataframe tbody tr th {\n",
       "        vertical-align: top;\n",
       "    }\n",
       "\n",
       "    .dataframe thead th {\n",
       "        text-align: right;\n",
       "    }\n",
       "</style>\n",
       "<table border=\"1\" class=\"dataframe\">\n",
       "  <thead>\n",
       "    <tr style=\"text-align: right;\">\n",
       "      <th></th>\n",
       "      <th>author_id</th>\n",
       "      <th>author_name</th>\n",
       "      <th>book_title</th>\n",
       "      <th>price</th>\n",
       "    </tr>\n",
       "  </thead>\n",
       "  <tbody>\n",
       "    <tr>\n",
       "      <th>0</th>\n",
       "      <td>1</td>\n",
       "      <td>Тургеньев</td>\n",
       "      <td>Отцы и дети</td>\n",
       "      <td>450</td>\n",
       "    </tr>\n",
       "    <tr>\n",
       "      <th>1</th>\n",
       "      <td>1</td>\n",
       "      <td>Тургеньев</td>\n",
       "      <td>Рудин</td>\n",
       "      <td>300</td>\n",
       "    </tr>\n",
       "    <tr>\n",
       "      <th>2</th>\n",
       "      <td>1</td>\n",
       "      <td>Тургеньев</td>\n",
       "      <td>Дворянское гнездо</td>\n",
       "      <td>350</td>\n",
       "    </tr>\n",
       "    <tr>\n",
       "      <th>3</th>\n",
       "      <td>2</td>\n",
       "      <td>Чехов</td>\n",
       "      <td>Толстый и тонкий</td>\n",
       "      <td>500</td>\n",
       "    </tr>\n",
       "    <tr>\n",
       "      <th>4</th>\n",
       "      <td>2</td>\n",
       "      <td>Чехов</td>\n",
       "      <td>Дама с собачкой</td>\n",
       "      <td>450</td>\n",
       "    </tr>\n",
       "    <tr>\n",
       "      <th>5</th>\n",
       "      <td>3</td>\n",
       "      <td>Островский</td>\n",
       "      <td>Гроза</td>\n",
       "      <td>370</td>\n",
       "    </tr>\n",
       "    <tr>\n",
       "      <th>6</th>\n",
       "      <td>3</td>\n",
       "      <td>Островский</td>\n",
       "      <td>Таланты и поклонники</td>\n",
       "      <td>290</td>\n",
       "    </tr>\n",
       "  </tbody>\n",
       "</table>\n",
       "</div>"
      ],
      "text/plain": [
       "   author_id author_name            book_title  price\n",
       "0          1   Тургеньев           Отцы и дети    450\n",
       "1          1   Тургеньев                 Рудин    300\n",
       "2          1   Тургеньев     Дворянское гнездо    350\n",
       "3          2       Чехов      Толстый и тонкий    500\n",
       "4          2       Чехов       Дама с собачкой    450\n",
       "5          3  Островский                 Гроза    370\n",
       "6          3  Островский  Таланты и поклонники    290"
      ]
     },
     "execution_count": 6,
     "metadata": {},
     "output_type": "execute_result"
    }
   ],
   "source": [
    "authors_price = pd.merge(authors, books, on='author_id', how='inner')\n",
    "authors_price"
   ]
  },
  {
   "cell_type": "markdown",
   "id": "714a1027-04a4-4c84-8cf9-9ccc39037478",
   "metadata": {},
   "source": [
    "#### №3"
   ]
  },
  {
   "cell_type": "code",
   "execution_count": 7,
   "id": "898cd742-2905-4ade-9cfa-5b19ba6dca53",
   "metadata": {},
   "outputs": [
    {
     "data": {
      "text/html": [
       "<div>\n",
       "<style scoped>\n",
       "    .dataframe tbody tr th:only-of-type {\n",
       "        vertical-align: middle;\n",
       "    }\n",
       "\n",
       "    .dataframe tbody tr th {\n",
       "        vertical-align: top;\n",
       "    }\n",
       "\n",
       "    .dataframe thead th {\n",
       "        text-align: right;\n",
       "    }\n",
       "</style>\n",
       "<table border=\"1\" class=\"dataframe\">\n",
       "  <thead>\n",
       "    <tr style=\"text-align: right;\">\n",
       "      <th></th>\n",
       "      <th>author_id</th>\n",
       "      <th>author_name</th>\n",
       "      <th>book_title</th>\n",
       "      <th>price</th>\n",
       "    </tr>\n",
       "  </thead>\n",
       "  <tbody>\n",
       "    <tr>\n",
       "      <th>0</th>\n",
       "      <td>2</td>\n",
       "      <td>Чехов</td>\n",
       "      <td>Толстый и тонкий</td>\n",
       "      <td>500</td>\n",
       "    </tr>\n",
       "    <tr>\n",
       "      <th>1</th>\n",
       "      <td>1</td>\n",
       "      <td>Тургеньев</td>\n",
       "      <td>Отцы и дети</td>\n",
       "      <td>450</td>\n",
       "    </tr>\n",
       "    <tr>\n",
       "      <th>2</th>\n",
       "      <td>2</td>\n",
       "      <td>Чехов</td>\n",
       "      <td>Дама с собачкой</td>\n",
       "      <td>450</td>\n",
       "    </tr>\n",
       "    <tr>\n",
       "      <th>3</th>\n",
       "      <td>3</td>\n",
       "      <td>Островский</td>\n",
       "      <td>Гроза</td>\n",
       "      <td>370</td>\n",
       "    </tr>\n",
       "    <tr>\n",
       "      <th>4</th>\n",
       "      <td>1</td>\n",
       "      <td>Тургеньев</td>\n",
       "      <td>Дворянское гнездо</td>\n",
       "      <td>350</td>\n",
       "    </tr>\n",
       "  </tbody>\n",
       "</table>\n",
       "</div>"
      ],
      "text/plain": [
       "   author_id author_name         book_title  price\n",
       "0          2       Чехов   Толстый и тонкий    500\n",
       "1          1   Тургеньев        Отцы и дети    450\n",
       "2          2       Чехов    Дама с собачкой    450\n",
       "3          3  Островский              Гроза    370\n",
       "4          1   Тургеньев  Дворянское гнездо    350"
      ]
     },
     "execution_count": 7,
     "metadata": {},
     "output_type": "execute_result"
    }
   ],
   "source": [
    "authors_price.sort_values(by=\"price\", inplace=True)\n",
    "top5 = authors_price.nlargest(5, 'price')\n",
    "top5.reset_index(drop=True, inplace=True)\n",
    "top5"
   ]
  },
  {
   "cell_type": "markdown",
   "id": "50be7ffa-cc90-4885-ae80-d509fb1d8d86",
   "metadata": {},
   "source": [
    "#### №4"
   ]
  },
  {
   "cell_type": "code",
   "execution_count": 70,
   "id": "45182cbb-7f9e-4fae-8599-b28d939233ac",
   "metadata": {},
   "outputs": [
    {
     "data": {
      "text/html": [
       "<div>\n",
       "<style scoped>\n",
       "    .dataframe tbody tr th:only-of-type {\n",
       "        vertical-align: middle;\n",
       "    }\n",
       "\n",
       "    .dataframe tbody tr th {\n",
       "        vertical-align: top;\n",
       "    }\n",
       "\n",
       "    .dataframe thead th {\n",
       "        text-align: right;\n",
       "    }\n",
       "</style>\n",
       "<table border=\"1\" class=\"dataframe\">\n",
       "  <thead>\n",
       "    <tr style=\"text-align: right;\">\n",
       "      <th></th>\n",
       "      <th>min_price</th>\n",
       "      <th>max_price</th>\n",
       "      <th>mean_price</th>\n",
       "    </tr>\n",
       "    <tr>\n",
       "      <th>author_name</th>\n",
       "      <th></th>\n",
       "      <th></th>\n",
       "      <th></th>\n",
       "    </tr>\n",
       "  </thead>\n",
       "  <tbody>\n",
       "    <tr>\n",
       "      <th>Островский</th>\n",
       "      <td>290</td>\n",
       "      <td>370</td>\n",
       "      <td>330.000000</td>\n",
       "    </tr>\n",
       "    <tr>\n",
       "      <th>Тургеньев</th>\n",
       "      <td>300</td>\n",
       "      <td>450</td>\n",
       "      <td>366.666667</td>\n",
       "    </tr>\n",
       "    <tr>\n",
       "      <th>Чехов</th>\n",
       "      <td>450</td>\n",
       "      <td>500</td>\n",
       "      <td>475.000000</td>\n",
       "    </tr>\n",
       "  </tbody>\n",
       "</table>\n",
       "</div>"
      ],
      "text/plain": [
       "             min_price  max_price  mean_price\n",
       "author_name                                  \n",
       "Островский         290        370  330.000000\n",
       "Тургеньев          300        450  366.666667\n",
       "Чехов              450        500  475.000000"
      ]
     },
     "execution_count": 70,
     "metadata": {},
     "output_type": "execute_result"
    }
   ],
   "source": [
    "authors_stats = authors_price\n",
    "authors_stats[\"min_price\"] = authors_price['price']\n",
    "authors_stats[\"max_price\"] = authors_stats['price']\n",
    "authors_stats[\"mean_price\"] = authors_stats['price']\n",
    "authors_stats = authors_stats.groupby(\"author_name\")\n",
    "authors_stats.agg({\"min_price\": \"min\", \"max_price\": \"max\", \"mean_price\": \"mean\"})"
   ]
  }
 ],
 "metadata": {
  "kernelspec": {
   "display_name": "Python 3",
   "language": "python",
   "name": "python3"
  },
  "language_info": {
   "codemirror_mode": {
    "name": "ipython",
    "version": 3
   },
   "file_extension": ".py",
   "mimetype": "text/x-python",
   "name": "python",
   "nbconvert_exporter": "python",
   "pygments_lexer": "ipython3",
   "version": "3.8.8"
  }
 },
 "nbformat": 4,
 "nbformat_minor": 5
}
