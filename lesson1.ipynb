{
 "cells": [
  {
   "cell_type": "markdown",
   "id": "29ccb74d",
   "metadata": {},
   "source": [
    "#### 1.Посмотреть документацию к API GitHub, разобраться как вывести список репозиториев для конкретного пользователя, сохранить JSON-вывод в файле *.json."
   ]
  },
  {
   "cell_type": "code",
   "execution_count": 7,
   "id": "a780fc2b",
   "metadata": {},
   "outputs": [
    {
     "name": "stdout",
     "output_type": "stream",
     "text": [
      "GB\n",
      "github-slideshow\n"
     ]
    }
   ],
   "source": [
    "import requests\n",
    "import json\n",
    "\n",
    "url = 'https://api.github.com'\n",
    "user = 'yablockoo'\n",
    "\n",
    "try:\n",
    "    req = requests.get(f'{url}/users/{user}/repos')\n",
    "except:\n",
    "    print('Error. Failed to get api request.')\n",
    "else:\n",
    "    with open('data.json', 'w') as f:\n",
    "        json.dump(req.json(), f)\n",
    "    for i in req.json():\n",
    "        print(i['name'])"
   ]
  }
 ],
 "metadata": {
  "kernelspec": {
   "display_name": "Python 3",
   "language": "python",
   "name": "python3"
  },
  "language_info": {
   "codemirror_mode": {
    "name": "ipython",
    "version": 3
   },
   "file_extension": ".py",
   "mimetype": "text/x-python",
   "name": "python",
   "nbconvert_exporter": "python",
   "pygments_lexer": "ipython3",
   "version": "3.8.8"
  }
 },
 "nbformat": 4,
 "nbformat_minor": 5
}
