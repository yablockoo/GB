{
  "cells": [
    {
      "cell_type": "markdown",
      "metadata": {
        "id": "view-in-github",
        "colab_type": "text"
      },
      "source": [
        "<a href=\"https://colab.research.google.com/github/yablockoo/GB/blob/PyTorch/PyTorchHW01.ipynb\" target=\"_parent\"><img src=\"https://colab.research.google.com/assets/colab-badge.svg\" alt=\"Open In Colab\"/></a>"
      ]
    },
    {
      "cell_type": "code",
      "execution_count": null,
      "metadata": {
        "id": "azCIvXhqItib"
      },
      "outputs": [],
      "source": [
        "import torch\n",
        "import numpy as np"
      ]
    },
    {
      "cell_type": "code",
      "execution_count": null,
      "metadata": {
        "id": "iJuE-BSWItie"
      },
      "outputs": [],
      "source": [
        "# Создайте случайный FloatTensor размера 3x4x5\n",
        "\n",
        "a = torch.rand(3, 4, 5).type(torch.float32)"
      ]
    },
    {
      "cell_type": "code",
      "execution_count": null,
      "metadata": {
        "colab": {
          "base_uri": "https://localhost:8080/"
        },
        "id": "TYrinh_gItig",
        "outputId": "de3d85bb-403f-45cb-c9f9-fcfa77f2a4c0"
      },
      "outputs": [
        {
          "output_type": "execute_result",
          "data": {
            "text/plain": [
              "torch.Size([3, 4, 5])"
            ]
          },
          "metadata": {},
          "execution_count": 58
        }
      ],
      "source": [
        "# Выведите его форму (shape)\n",
        "a.shape"
      ]
    },
    {
      "cell_type": "code",
      "execution_count": null,
      "metadata": {
        "colab": {
          "base_uri": "https://localhost:8080/"
        },
        "id": "-iZEiOfdItii",
        "outputId": "9a649c03-73d9-40bb-f7d5-5bba0cc2382b"
      },
      "outputs": [
        {
          "output_type": "execute_result",
          "data": {
            "text/plain": [
              "tensor([[0.9476, 0.8133, 0.7539, 0.6700, 0.5153, 0.1373, 0.9423, 0.2586, 0.0549,\n",
              "         0.6897],\n",
              "        [0.6774, 0.9706, 0.1530, 0.3408, 0.9573, 0.4512, 0.3232, 0.3198, 0.4859,\n",
              "         0.3903],\n",
              "        [0.0598, 0.6495, 0.6289, 0.8088, 0.8690, 0.2981, 0.6699, 0.7258, 0.2100,\n",
              "         0.6118],\n",
              "        [0.5754, 0.3942, 0.9995, 0.6091, 0.2687, 0.1911, 0.2438, 0.8157, 0.1183,\n",
              "         0.6727],\n",
              "        [0.3355, 0.3316, 0.9376, 0.7856, 0.6430, 0.3950, 0.8995, 0.7088, 0.6559,\n",
              "         0.4415],\n",
              "        [0.9399, 0.7153, 0.4676, 0.0317, 0.5157, 0.7771, 0.2133, 0.3156, 0.2526,\n",
              "         0.2002]])"
            ]
          },
          "metadata": {},
          "execution_count": 59
        }
      ],
      "source": [
        "# Приведите его к форме 6 X 10\n",
        "a = a.view(6, 10) \n",
        "a"
      ]
    },
    {
      "cell_type": "code",
      "execution_count": null,
      "metadata": {
        "id": "4zH_u3cXItij",
        "colab": {
          "base_uri": "https://localhost:8080/"
        },
        "outputId": "e93962b0-a984-488b-fe22-14113482ddec"
      },
      "outputs": [
        {
          "output_type": "execute_result",
          "data": {
            "text/plain": [
              "tensor([[0.9476, 3.2533, 1.5078, 1.3399, 0.5153, 0.1373],\n",
              "        [0.9423, 1.0345, 0.1097, 1.3794, 0.6774, 0.9706],\n",
              "        [0.1530, 1.3634, 1.9147, 0.9024, 0.3232, 0.3198],\n",
              "        [0.4859, 1.5614, 0.1196, 1.2990, 0.6289, 0.8088],\n",
              "        [0.8690, 1.1924, 1.3398, 1.4515, 0.2100, 0.6118],\n",
              "        [0.5754, 1.5768, 1.9990, 1.2181, 0.2687, 0.1911],\n",
              "        [0.2438, 3.2629, 0.2367, 1.3454, 0.3355, 0.3316],\n",
              "        [0.9376, 3.1423, 1.2860, 0.7901, 0.8995, 0.7088],\n",
              "        [0.6559, 1.7660, 1.8798, 1.4306, 0.4676, 0.0317],\n",
              "        [0.5157, 3.1084, 0.4265, 0.6313, 0.2526, 0.2002]])"
            ]
          },
          "metadata": {},
          "execution_count": 60
        }
      ],
      "source": [
        "# Умножьте его на вектор [1, 4, 2, 2, 1] поэлементно\n",
        "b = torch.FloatTensor([1, 4, 2, 2, 1, 1]) \n",
        "c = a.view(10, 6) * b\n",
        "c"
      ]
    },
    {
      "cell_type": "code",
      "execution_count": null,
      "metadata": {
        "id": "YBGHU33mItik",
        "colab": {
          "base_uri": "https://localhost:8080/"
        },
        "outputId": "1a81c9b1-c29d-4933-9f83-4a561ed1da06"
      },
      "outputs": [
        {
          "output_type": "execute_result",
          "data": {
            "text/plain": [
              "torch.Size([6, 6])"
            ]
          },
          "metadata": {},
          "execution_count": 61
        }
      ],
      "source": [
        "# Умножьте тензор матрично на себя, чтобы результат был размерности 6x6\n",
        "d = c.view(6, 10).mm(c)\n",
        "d.shape"
      ]
    },
    {
      "cell_type": "code",
      "execution_count": null,
      "metadata": {
        "id": "p7a00U4VItil"
      },
      "outputs": [],
      "source": [
        "# Посчитайте производную функции y = x**3 + z - 75t в точке (1, 0.5, 2)\n",
        "from torch.autograd import Variable\n",
        "\n",
        "x = Variable(torch.Tensor([1]), requires_grad = True)\n",
        "z = Variable(torch.Tensor([0.5]), requires_grad = True)\n",
        "t = Variable(torch.Tensor([2]), requires_grad = True)"
      ]
    },
    {
      "cell_type": "code",
      "source": [
        "y = x**3 + z - 75 * t"
      ],
      "metadata": {
        "id": "0Xfvdd2672nD"
      },
      "execution_count": null,
      "outputs": []
    },
    {
      "cell_type": "code",
      "source": [
        "y.backward(inputs=(x, z, t))"
      ],
      "metadata": {
        "id": "ii6o-DWq74Rw"
      },
      "execution_count": null,
      "outputs": []
    },
    {
      "cell_type": "code",
      "source": [
        "print(x.grad, z.grad, t.grad)"
      ],
      "metadata": {
        "colab": {
          "base_uri": "https://localhost:8080/"
        },
        "id": "GCQidk5H8MMv",
        "outputId": "eb0551cc-698f-45ae-f080-728f4cae6ad6"
      },
      "execution_count": null,
      "outputs": [
        {
          "output_type": "stream",
          "name": "stdout",
          "text": [
            "tensor([3.]) tensor([1.]) tensor([-75.])\n"
          ]
        }
      ]
    },
    {
      "cell_type": "code",
      "execution_count": null,
      "metadata": {
        "id": "-P_OavilItim",
        "colab": {
          "base_uri": "https://localhost:8080/"
        },
        "outputId": "10cf4b31-26d6-43a5-9ce1-89a51b57bcac"
      },
      "outputs": [
        {
          "output_type": "execute_result",
          "data": {
            "text/plain": [
              "tensor([[1., 1., 1., 1., 1., 1.],\n",
              "        [1., 1., 1., 1., 1., 1.],\n",
              "        [1., 1., 1., 1., 1., 1.],\n",
              "        [1., 1., 1., 1., 1., 1.],\n",
              "        [1., 1., 1., 1., 1., 1.]])"
            ]
          },
          "metadata": {},
          "execution_count": 89
        }
      ],
      "source": [
        "# Создайте единичный тензор размера 5x6\n",
        "x = torch.ones(5, 6)\n",
        "x"
      ]
    },
    {
      "cell_type": "code",
      "execution_count": null,
      "metadata": {
        "id": "BSeMQMkIItio",
        "colab": {
          "base_uri": "https://localhost:8080/"
        },
        "outputId": "0f329f49-f028-4e24-bade-2e4123f03bf4"
      },
      "outputs": [
        {
          "output_type": "execute_result",
          "data": {
            "text/plain": [
              "array([[1., 1., 1., 1., 1., 1.],\n",
              "       [1., 1., 1., 1., 1., 1.],\n",
              "       [1., 1., 1., 1., 1., 1.],\n",
              "       [1., 1., 1., 1., 1., 1.],\n",
              "       [1., 1., 1., 1., 1., 1.]], dtype=float32)"
            ]
          },
          "metadata": {},
          "execution_count": 90
        }
      ],
      "source": [
        "# Переведите его в формат numpy\n",
        "xnp = x.numpy()\n",
        "xnp"
      ]
    },
    {
      "cell_type": "code",
      "execution_count": null,
      "metadata": {
        "id": "E2PksmGNItiq"
      },
      "outputs": [],
      "source": [
        "# Давайте теперь пооптимизируем: возьмите функцию y = x**w1 - 2 * x**2 + 5\n",
        "# Посчитайте \n",
        "from torch import nn \n",
        "from torch import optim"
      ]
    }
  ],
  "metadata": {
    "kernelspec": {
      "display_name": "Python 3",
      "language": "python",
      "name": "python3"
    },
    "language_info": {
      "codemirror_mode": {
        "name": "ipython",
        "version": 3
      },
      "file_extension": ".py",
      "mimetype": "text/x-python",
      "name": "python",
      "nbconvert_exporter": "python",
      "pygments_lexer": "ipython3",
      "version": "3.7.4"
    },
    "colab": {
      "name": "PyTorchHW01.ipynb",
      "provenance": [],
      "collapsed_sections": [],
      "include_colab_link": true
    },
    "accelerator": "GPU",
    "gpuClass": "standard"
  },
  "nbformat": 4,
  "nbformat_minor": 0
}