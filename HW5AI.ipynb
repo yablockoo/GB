{
  "nbformat": 4,
  "nbformat_minor": 0,
  "metadata": {
    "colab": {
      "name": "HW5AI.ipynb",
      "provenance": [],
      "mount_file_id": "1AQxjPSFN2ft4JPXvdYgNy103_VBjY2AE",
      "authorship_tag": "ABX9TyMFoMWqE5d1s65qoC2/4Vq0",
      "include_colab_link": true
    },
    "kernelspec": {
      "name": "python3",
      "display_name": "Python 3"
    },
    "language_info": {
      "name": "python"
    }
  },
  "cells": [
    {
      "cell_type": "markdown",
      "metadata": {
        "id": "view-in-github",
        "colab_type": "text"
      },
      "source": [
        "<a href=\"https://colab.research.google.com/github/yablockoo/GB/blob/AI/HW5AI.ipynb\" target=\"_parent\"><img src=\"https://colab.research.google.com/assets/colab-badge.svg\" alt=\"Open In Colab\"/></a>"
      ]
    },
    {
      "cell_type": "markdown",
      "source": [
        "Обучить нейронную сеть LSTM"
      ],
      "metadata": {
        "id": "jimrLyIQP07T"
      }
    },
    {
      "cell_type": "code",
      "source": [
        "import numpy as np\n",
        "import pandas as pd\n",
        "import matplotlib.pyplot as plt\n",
        "from pandas import read_csv\n",
        "import math\n",
        "import tensorflow as tf\n",
        "from keras.models import Sequential\n",
        "from keras.layers import Dense\n",
        "from keras.layers import LSTM\n",
        "from sklearn.preprocessing import MinMaxScaler\n",
        "from sklearn.metrics import mean_squared_error\n",
        "\n",
        "np.random.seed(42)"
      ],
      "metadata": {
        "id": "QVv2gz3BQ7LH"
      },
      "execution_count": 1,
      "outputs": []
    },
    {
      "cell_type": "code",
      "source": [
        "dataframe = pd.read_csv('/content/drive/MyDrive/data/airline-passengers.csv', usecols=[1], engine='python')\n",
        "dataset = dataframe.values\n",
        "dataset = dataset.astype('float32')"
      ],
      "metadata": {
        "id": "msUZk8XCT8sJ"
      },
      "execution_count": 2,
      "outputs": []
    },
    {
      "cell_type": "code",
      "source": [
        "dataset[:10]"
      ],
      "metadata": {
        "colab": {
          "base_uri": "https://localhost:8080/"
        },
        "id": "ULXLq-ifVCve",
        "outputId": "ab43b6ca-54ac-4700-9796-c375efcd8e60"
      },
      "execution_count": 3,
      "outputs": [
        {
          "output_type": "execute_result",
          "data": {
            "text/plain": [
              "array([[112.],\n",
              "       [118.],\n",
              "       [132.],\n",
              "       [129.],\n",
              "       [121.],\n",
              "       [135.],\n",
              "       [148.],\n",
              "       [148.],\n",
              "       [136.],\n",
              "       [119.]], dtype=float32)"
            ]
          },
          "metadata": {},
          "execution_count": 3
        }
      ]
    },
    {
      "cell_type": "code",
      "source": [
        "#нормализуем датасет\n",
        "scaler = MinMaxScaler(feature_range=(0, 1))\n",
        "dataset = scaler.fit_transform(dataset)\n",
        "\n",
        "#разобьём на train и test\n",
        "train_size = int(len(dataset) * 0.67)\n",
        "test_size = len(dataset) - train_size\n",
        "train, test = dataset[0:train_size,:], dataset[train_size:len(dataset),:]\n",
        "print(f'train shape: {train.shape}')\n",
        "print(f'test shape: {test.shape}')"
      ],
      "metadata": {
        "colab": {
          "base_uri": "https://localhost:8080/"
        },
        "id": "vjWS2sLeVVxU",
        "outputId": "01d58676-37d4-457f-8249-2ac2cc73345e"
      },
      "execution_count": 4,
      "outputs": [
        {
          "output_type": "stream",
          "name": "stdout",
          "text": [
            "train shape: (96, 1)\n",
            "test shape: (48, 1)\n"
          ]
        }
      ]
    },
    {
      "cell_type": "code",
      "source": [
        "#функция разбития временного ряда\n",
        "def create_dataset(dataset, look_back=1):\n",
        "\tX, y = [], []\n",
        "\n",
        "\tfor i in range(len(dataset)-look_back-1):\n",
        "\t\ta = dataset[i:(i + look_back), 0]\n",
        "\t\tX.append(a)\n",
        "\t\ty.append(dataset[i + look_back, 0])\n",
        "  \n",
        "\treturn np.array(X), np.array(y)\n"
      ],
      "metadata": {
        "id": "djUx2pYqZLVR"
      },
      "execution_count": 5,
      "outputs": []
    },
    {
      "cell_type": "code",
      "source": [
        "#изменим размерность X=t и Y=t+1\n",
        "look_back = 3\n",
        "x_train, y_train = create_dataset(train, look_back)\n",
        "x_test, y_test = create_dataset(test, look_back)\n",
        "\n",
        "#изменим размерность input в вид [samples, time steps, features]\n",
        "x_train = np.reshape(x_train, (x_train.shape[0], 1, x_train.shape[1]))\n",
        "x_test = np.reshape(x_test, (x_test.shape[0], 1, x_test.shape[1]))\n"
      ],
      "metadata": {
        "id": "RE0D9qdSdKql"
      },
      "execution_count": 6,
      "outputs": []
    },
    {
      "cell_type": "code",
      "source": [
        "print(f'X train shape: {x_train.shape}')\n",
        "print(f'X test shape: {x_test.shape}')"
      ],
      "metadata": {
        "colab": {
          "base_uri": "https://localhost:8080/"
        },
        "id": "wQPwslQAz6dz",
        "outputId": "53d5cef2-23cf-442c-f0df-bbd90b971dbf"
      },
      "execution_count": 7,
      "outputs": [
        {
          "output_type": "stream",
          "name": "stdout",
          "text": [
            "X train shape: (92, 1, 3)\n",
            "X test shape: (44, 1, 3)\n"
          ]
        }
      ]
    },
    {
      "cell_type": "code",
      "execution_count": 8,
      "metadata": {
        "id": "Iu1_46LSqYZv",
        "colab": {
          "base_uri": "https://localhost:8080/"
        },
        "outputId": "624de484-731f-46a9-ae5b-1335c8590980"
      },
      "outputs": [
        {
          "output_type": "stream",
          "name": "stdout",
          "text": [
            "Epoch 1/150\n",
            "10/10 - 4s - loss: 0.0426 - 4s/epoch - 410ms/step\n",
            "Epoch 2/150\n",
            "10/10 - 0s - loss: 0.0214 - 48ms/epoch - 5ms/step\n",
            "Epoch 3/150\n",
            "10/10 - 0s - loss: 0.0105 - 53ms/epoch - 5ms/step\n",
            "Epoch 4/150\n",
            "10/10 - 0s - loss: 0.0068 - 70ms/epoch - 7ms/step\n",
            "Epoch 5/150\n",
            "10/10 - 0s - loss: 0.0066 - 57ms/epoch - 6ms/step\n",
            "Epoch 6/150\n",
            "10/10 - 0s - loss: 0.0062 - 48ms/epoch - 5ms/step\n",
            "Epoch 7/150\n",
            "10/10 - 0s - loss: 0.0057 - 38ms/epoch - 4ms/step\n",
            "Epoch 8/150\n",
            "10/10 - 0s - loss: 0.0052 - 49ms/epoch - 5ms/step\n",
            "Epoch 9/150\n",
            "10/10 - 0s - loss: 0.0049 - 36ms/epoch - 4ms/step\n",
            "Epoch 10/150\n",
            "10/10 - 0s - loss: 0.0047 - 49ms/epoch - 5ms/step\n",
            "Epoch 11/150\n",
            "10/10 - 0s - loss: 0.0044 - 48ms/epoch - 5ms/step\n",
            "Epoch 12/150\n",
            "10/10 - 0s - loss: 0.0041 - 49ms/epoch - 5ms/step\n",
            "Epoch 13/150\n",
            "10/10 - 0s - loss: 0.0039 - 56ms/epoch - 6ms/step\n",
            "Epoch 14/150\n",
            "10/10 - 0s - loss: 0.0038 - 79ms/epoch - 8ms/step\n",
            "Epoch 15/150\n",
            "10/10 - 0s - loss: 0.0037 - 51ms/epoch - 5ms/step\n",
            "Epoch 16/150\n",
            "10/10 - 0s - loss: 0.0036 - 77ms/epoch - 8ms/step\n",
            "Epoch 17/150\n",
            "10/10 - 0s - loss: 0.0036 - 66ms/epoch - 7ms/step\n",
            "Epoch 18/150\n",
            "10/10 - 0s - loss: 0.0035 - 72ms/epoch - 7ms/step\n",
            "Epoch 19/150\n",
            "10/10 - 0s - loss: 0.0035 - 52ms/epoch - 5ms/step\n",
            "Epoch 20/150\n",
            "10/10 - 0s - loss: 0.0035 - 56ms/epoch - 6ms/step\n",
            "Epoch 21/150\n",
            "10/10 - 0s - loss: 0.0034 - 57ms/epoch - 6ms/step\n",
            "Epoch 22/150\n",
            "10/10 - 0s - loss: 0.0034 - 56ms/epoch - 6ms/step\n",
            "Epoch 23/150\n",
            "10/10 - 0s - loss: 0.0033 - 72ms/epoch - 7ms/step\n",
            "Epoch 24/150\n",
            "10/10 - 0s - loss: 0.0033 - 86ms/epoch - 9ms/step\n",
            "Epoch 25/150\n",
            "10/10 - 0s - loss: 0.0033 - 38ms/epoch - 4ms/step\n",
            "Epoch 26/150\n",
            "10/10 - 0s - loss: 0.0032 - 41ms/epoch - 4ms/step\n",
            "Epoch 27/150\n",
            "10/10 - 0s - loss: 0.0032 - 56ms/epoch - 6ms/step\n",
            "Epoch 28/150\n",
            "10/10 - 0s - loss: 0.0032 - 46ms/epoch - 5ms/step\n",
            "Epoch 29/150\n",
            "10/10 - 0s - loss: 0.0032 - 60ms/epoch - 6ms/step\n",
            "Epoch 30/150\n",
            "10/10 - 0s - loss: 0.0031 - 55ms/epoch - 6ms/step\n",
            "Epoch 31/150\n",
            "10/10 - 0s - loss: 0.0031 - 49ms/epoch - 5ms/step\n",
            "Epoch 32/150\n",
            "10/10 - 0s - loss: 0.0031 - 55ms/epoch - 6ms/step\n",
            "Epoch 33/150\n",
            "10/10 - 0s - loss: 0.0031 - 47ms/epoch - 5ms/step\n",
            "Epoch 34/150\n",
            "10/10 - 0s - loss: 0.0030 - 46ms/epoch - 5ms/step\n",
            "Epoch 35/150\n",
            "10/10 - 0s - loss: 0.0031 - 53ms/epoch - 5ms/step\n",
            "Epoch 36/150\n",
            "10/10 - 0s - loss: 0.0030 - 74ms/epoch - 7ms/step\n",
            "Epoch 37/150\n",
            "10/10 - 0s - loss: 0.0029 - 63ms/epoch - 6ms/step\n",
            "Epoch 38/150\n",
            "10/10 - 0s - loss: 0.0030 - 57ms/epoch - 6ms/step\n",
            "Epoch 39/150\n",
            "10/10 - 0s - loss: 0.0029 - 55ms/epoch - 5ms/step\n",
            "Epoch 40/150\n",
            "10/10 - 0s - loss: 0.0029 - 67ms/epoch - 7ms/step\n",
            "Epoch 41/150\n",
            "10/10 - 0s - loss: 0.0028 - 49ms/epoch - 5ms/step\n",
            "Epoch 42/150\n",
            "10/10 - 0s - loss: 0.0029 - 46ms/epoch - 5ms/step\n",
            "Epoch 43/150\n",
            "10/10 - 0s - loss: 0.0028 - 47ms/epoch - 5ms/step\n",
            "Epoch 44/150\n",
            "10/10 - 0s - loss: 0.0028 - 40ms/epoch - 4ms/step\n",
            "Epoch 45/150\n",
            "10/10 - 0s - loss: 0.0028 - 40ms/epoch - 4ms/step\n",
            "Epoch 46/150\n",
            "10/10 - 0s - loss: 0.0027 - 66ms/epoch - 7ms/step\n",
            "Epoch 47/150\n",
            "10/10 - 0s - loss: 0.0027 - 47ms/epoch - 5ms/step\n",
            "Epoch 48/150\n",
            "10/10 - 0s - loss: 0.0028 - 54ms/epoch - 5ms/step\n",
            "Epoch 49/150\n",
            "10/10 - 0s - loss: 0.0027 - 68ms/epoch - 7ms/step\n",
            "Epoch 50/150\n",
            "10/10 - 0s - loss: 0.0026 - 42ms/epoch - 4ms/step\n",
            "Epoch 51/150\n",
            "10/10 - 0s - loss: 0.0027 - 96ms/epoch - 10ms/step\n",
            "Epoch 52/150\n",
            "10/10 - 0s - loss: 0.0028 - 54ms/epoch - 5ms/step\n",
            "Epoch 53/150\n",
            "10/10 - 0s - loss: 0.0027 - 50ms/epoch - 5ms/step\n",
            "Epoch 54/150\n",
            "10/10 - 0s - loss: 0.0026 - 64ms/epoch - 6ms/step\n",
            "Epoch 55/150\n",
            "10/10 - 0s - loss: 0.0025 - 54ms/epoch - 5ms/step\n",
            "Epoch 56/150\n",
            "10/10 - 0s - loss: 0.0025 - 60ms/epoch - 6ms/step\n",
            "Epoch 57/150\n",
            "10/10 - 0s - loss: 0.0025 - 46ms/epoch - 5ms/step\n",
            "Epoch 58/150\n",
            "10/10 - 0s - loss: 0.0025 - 72ms/epoch - 7ms/step\n",
            "Epoch 59/150\n",
            "10/10 - 0s - loss: 0.0025 - 39ms/epoch - 4ms/step\n",
            "Epoch 60/150\n",
            "10/10 - 0s - loss: 0.0024 - 53ms/epoch - 5ms/step\n",
            "Epoch 61/150\n",
            "10/10 - 0s - loss: 0.0025 - 53ms/epoch - 5ms/step\n",
            "Epoch 62/150\n",
            "10/10 - 0s - loss: 0.0024 - 58ms/epoch - 6ms/step\n",
            "Epoch 63/150\n",
            "10/10 - 0s - loss: 0.0024 - 47ms/epoch - 5ms/step\n",
            "Epoch 64/150\n",
            "10/10 - 0s - loss: 0.0024 - 45ms/epoch - 5ms/step\n",
            "Epoch 65/150\n",
            "10/10 - 0s - loss: 0.0024 - 49ms/epoch - 5ms/step\n",
            "Epoch 66/150\n",
            "10/10 - 0s - loss: 0.0023 - 57ms/epoch - 6ms/step\n",
            "Epoch 67/150\n",
            "10/10 - 0s - loss: 0.0024 - 43ms/epoch - 4ms/step\n",
            "Epoch 68/150\n",
            "10/10 - 0s - loss: 0.0023 - 83ms/epoch - 8ms/step\n",
            "Epoch 69/150\n",
            "10/10 - 0s - loss: 0.0023 - 58ms/epoch - 6ms/step\n",
            "Epoch 70/150\n",
            "10/10 - 0s - loss: 0.0024 - 51ms/epoch - 5ms/step\n",
            "Epoch 71/150\n",
            "10/10 - 0s - loss: 0.0022 - 48ms/epoch - 5ms/step\n",
            "Epoch 72/150\n",
            "10/10 - 0s - loss: 0.0023 - 55ms/epoch - 6ms/step\n",
            "Epoch 73/150\n",
            "10/10 - 0s - loss: 0.0024 - 53ms/epoch - 5ms/step\n",
            "Epoch 74/150\n",
            "10/10 - 0s - loss: 0.0023 - 59ms/epoch - 6ms/step\n",
            "Epoch 75/150\n",
            "10/10 - 0s - loss: 0.0023 - 42ms/epoch - 4ms/step\n",
            "Epoch 76/150\n",
            "10/10 - 0s - loss: 0.0023 - 46ms/epoch - 5ms/step\n",
            "Epoch 77/150\n",
            "10/10 - 0s - loss: 0.0024 - 51ms/epoch - 5ms/step\n",
            "Epoch 78/150\n",
            "10/10 - 0s - loss: 0.0022 - 109ms/epoch - 11ms/step\n",
            "Epoch 79/150\n",
            "10/10 - 0s - loss: 0.0022 - 54ms/epoch - 5ms/step\n",
            "Epoch 80/150\n",
            "10/10 - 0s - loss: 0.0022 - 73ms/epoch - 7ms/step\n",
            "Epoch 81/150\n",
            "10/10 - 0s - loss: 0.0022 - 67ms/epoch - 7ms/step\n",
            "Epoch 82/150\n",
            "10/10 - 0s - loss: 0.0022 - 75ms/epoch - 7ms/step\n",
            "Epoch 83/150\n",
            "10/10 - 0s - loss: 0.0022 - 61ms/epoch - 6ms/step\n",
            "Epoch 84/150\n",
            "10/10 - 0s - loss: 0.0021 - 72ms/epoch - 7ms/step\n",
            "Epoch 85/150\n",
            "10/10 - 0s - loss: 0.0022 - 69ms/epoch - 7ms/step\n",
            "Epoch 86/150\n",
            "10/10 - 0s - loss: 0.0021 - 78ms/epoch - 8ms/step\n",
            "Epoch 87/150\n",
            "10/10 - 0s - loss: 0.0023 - 47ms/epoch - 5ms/step\n",
            "Epoch 88/150\n",
            "10/10 - 0s - loss: 0.0021 - 51ms/epoch - 5ms/step\n",
            "Epoch 89/150\n",
            "10/10 - 0s - loss: 0.0022 - 51ms/epoch - 5ms/step\n",
            "Epoch 90/150\n",
            "10/10 - 0s - loss: 0.0023 - 49ms/epoch - 5ms/step\n",
            "Epoch 91/150\n",
            "10/10 - 0s - loss: 0.0022 - 64ms/epoch - 6ms/step\n",
            "Epoch 92/150\n",
            "10/10 - 0s - loss: 0.0020 - 80ms/epoch - 8ms/step\n",
            "Epoch 93/150\n",
            "10/10 - 0s - loss: 0.0021 - 50ms/epoch - 5ms/step\n",
            "Epoch 94/150\n",
            "10/10 - 0s - loss: 0.0021 - 48ms/epoch - 5ms/step\n",
            "Epoch 95/150\n",
            "10/10 - 0s - loss: 0.0020 - 53ms/epoch - 5ms/step\n",
            "Epoch 96/150\n",
            "10/10 - 0s - loss: 0.0021 - 50ms/epoch - 5ms/step\n",
            "Epoch 97/150\n",
            "10/10 - 0s - loss: 0.0021 - 52ms/epoch - 5ms/step\n",
            "Epoch 98/150\n",
            "10/10 - 0s - loss: 0.0022 - 67ms/epoch - 7ms/step\n",
            "Epoch 99/150\n",
            "10/10 - 0s - loss: 0.0020 - 47ms/epoch - 5ms/step\n",
            "Epoch 100/150\n",
            "10/10 - 0s - loss: 0.0022 - 53ms/epoch - 5ms/step\n",
            "Epoch 101/150\n",
            "10/10 - 0s - loss: 0.0020 - 49ms/epoch - 5ms/step\n",
            "Epoch 102/150\n",
            "10/10 - 0s - loss: 0.0021 - 45ms/epoch - 4ms/step\n",
            "Epoch 103/150\n",
            "10/10 - 0s - loss: 0.0020 - 43ms/epoch - 4ms/step\n",
            "Epoch 104/150\n",
            "10/10 - 0s - loss: 0.0020 - 61ms/epoch - 6ms/step\n",
            "Epoch 105/150\n",
            "10/10 - 0s - loss: 0.0020 - 51ms/epoch - 5ms/step\n",
            "Epoch 106/150\n",
            "10/10 - 0s - loss: 0.0020 - 66ms/epoch - 7ms/step\n",
            "Epoch 107/150\n",
            "10/10 - 0s - loss: 0.0022 - 50ms/epoch - 5ms/step\n",
            "Epoch 108/150\n",
            "10/10 - 0s - loss: 0.0019 - 61ms/epoch - 6ms/step\n",
            "Epoch 109/150\n",
            "10/10 - 0s - loss: 0.0021 - 47ms/epoch - 5ms/step\n",
            "Epoch 110/150\n",
            "10/10 - 0s - loss: 0.0019 - 53ms/epoch - 5ms/step\n",
            "Epoch 111/150\n",
            "10/10 - 0s - loss: 0.0019 - 56ms/epoch - 6ms/step\n",
            "Epoch 112/150\n",
            "10/10 - 0s - loss: 0.0020 - 74ms/epoch - 7ms/step\n",
            "Epoch 113/150\n",
            "10/10 - 0s - loss: 0.0019 - 62ms/epoch - 6ms/step\n",
            "Epoch 114/150\n",
            "10/10 - 0s - loss: 0.0020 - 50ms/epoch - 5ms/step\n",
            "Epoch 115/150\n",
            "10/10 - 0s - loss: 0.0019 - 58ms/epoch - 6ms/step\n",
            "Epoch 116/150\n",
            "10/10 - 0s - loss: 0.0019 - 81ms/epoch - 8ms/step\n",
            "Epoch 117/150\n",
            "10/10 - 0s - loss: 0.0020 - 54ms/epoch - 5ms/step\n",
            "Epoch 118/150\n",
            "10/10 - 0s - loss: 0.0019 - 60ms/epoch - 6ms/step\n",
            "Epoch 119/150\n",
            "10/10 - 0s - loss: 0.0019 - 43ms/epoch - 4ms/step\n",
            "Epoch 120/150\n",
            "10/10 - 0s - loss: 0.0019 - 59ms/epoch - 6ms/step\n",
            "Epoch 121/150\n",
            "10/10 - 0s - loss: 0.0019 - 60ms/epoch - 6ms/step\n",
            "Epoch 122/150\n",
            "10/10 - 0s - loss: 0.0019 - 46ms/epoch - 5ms/step\n",
            "Epoch 123/150\n",
            "10/10 - 0s - loss: 0.0019 - 44ms/epoch - 4ms/step\n",
            "Epoch 124/150\n",
            "10/10 - 0s - loss: 0.0019 - 69ms/epoch - 7ms/step\n",
            "Epoch 125/150\n",
            "10/10 - 0s - loss: 0.0019 - 52ms/epoch - 5ms/step\n",
            "Epoch 126/150\n",
            "10/10 - 0s - loss: 0.0019 - 48ms/epoch - 5ms/step\n",
            "Epoch 127/150\n",
            "10/10 - 0s - loss: 0.0019 - 80ms/epoch - 8ms/step\n",
            "Epoch 128/150\n",
            "10/10 - 0s - loss: 0.0019 - 73ms/epoch - 7ms/step\n",
            "Epoch 129/150\n",
            "10/10 - 0s - loss: 0.0019 - 55ms/epoch - 6ms/step\n",
            "Epoch 130/150\n",
            "10/10 - 0s - loss: 0.0019 - 50ms/epoch - 5ms/step\n",
            "Epoch 131/150\n",
            "10/10 - 0s - loss: 0.0019 - 47ms/epoch - 5ms/step\n",
            "Epoch 132/150\n",
            "10/10 - 0s - loss: 0.0019 - 68ms/epoch - 7ms/step\n",
            "Epoch 133/150\n",
            "10/10 - 0s - loss: 0.0019 - 88ms/epoch - 9ms/step\n",
            "Epoch 134/150\n",
            "10/10 - 0s - loss: 0.0019 - 43ms/epoch - 4ms/step\n",
            "Epoch 135/150\n",
            "10/10 - 0s - loss: 0.0019 - 40ms/epoch - 4ms/step\n",
            "Epoch 136/150\n",
            "10/10 - 0s - loss: 0.0021 - 42ms/epoch - 4ms/step\n",
            "Epoch 137/150\n",
            "10/10 - 0s - loss: 0.0018 - 46ms/epoch - 5ms/step\n",
            "Epoch 138/150\n",
            "10/10 - 0s - loss: 0.0018 - 53ms/epoch - 5ms/step\n",
            "Epoch 139/150\n",
            "10/10 - 0s - loss: 0.0019 - 93ms/epoch - 9ms/step\n",
            "Epoch 140/150\n",
            "10/10 - 0s - loss: 0.0019 - 47ms/epoch - 5ms/step\n",
            "Epoch 141/150\n",
            "10/10 - 0s - loss: 0.0019 - 64ms/epoch - 6ms/step\n",
            "Epoch 142/150\n",
            "10/10 - 0s - loss: 0.0018 - 57ms/epoch - 6ms/step\n",
            "Epoch 143/150\n",
            "10/10 - 0s - loss: 0.0019 - 56ms/epoch - 6ms/step\n",
            "Epoch 144/150\n",
            "10/10 - 0s - loss: 0.0019 - 45ms/epoch - 5ms/step\n",
            "Epoch 145/150\n",
            "10/10 - 0s - loss: 0.0020 - 67ms/epoch - 7ms/step\n",
            "Epoch 146/150\n",
            "10/10 - 0s - loss: 0.0019 - 64ms/epoch - 6ms/step\n",
            "Epoch 147/150\n",
            "10/10 - 0s - loss: 0.0018 - 43ms/epoch - 4ms/step\n",
            "Epoch 148/150\n",
            "10/10 - 0s - loss: 0.0019 - 48ms/epoch - 5ms/step\n",
            "Epoch 149/150\n",
            "10/10 - 0s - loss: 0.0018 - 68ms/epoch - 7ms/step\n",
            "Epoch 150/150\n",
            "10/10 - 0s - loss: 0.0019 - 52ms/epoch - 5ms/step\n"
          ]
        }
      ],
      "source": [
        "# create and fit the LSTM network\n",
        "neurons = 100\n",
        "epochs = 150\n",
        "batch_size = 10\n",
        "\n",
        "opt = tf.keras.optimizers.Adam(learning_rate=0.001)\n",
        "\n",
        "model = Sequential()\n",
        "model.add(LSTM(neurons, input_shape=(1, look_back)))\n",
        "model.add(Dense(1))\n",
        "model.compile(loss='mean_squared_error', optimizer=opt)\n",
        "hh = model.fit(x_train, y_train, epochs=epochs, batch_size=batch_size, verbose=2)"
      ]
    },
    {
      "cell_type": "code",
      "source": [
        "plt.plot(hh.history['loss'])\n",
        "plt.show()\n"
      ],
      "metadata": {
        "colab": {
          "base_uri": "https://localhost:8080/",
          "height": 265
        },
        "id": "coIQt59KIpwe",
        "outputId": "ad0ab771-b541-4403-9e50-22e21fdfa324"
      },
      "execution_count": 9,
      "outputs": [
        {
          "output_type": "display_data",
          "data": {
            "text/plain": [
              "<Figure size 432x288 with 1 Axes>"
            ],
            "image/png": "[encoded data removed]"
          },
          "metadata": {
            "needs_background": "light"
          }
        }
      ]
    },
    {
      "cell_type": "code",
      "source": [
        "#сделаем предсказания\n",
        "train_predict = model.predict(x_train)\n",
        "test_predict = model.predict(x_test)\n",
        "print(f'train_predict: \\n{train_predict[:5]} \\n')\n",
        "print(f'test_predict: \\n{test_predict[:5]}')"
      ],
      "metadata": {
        "colab": {
          "base_uri": "https://localhost:8080/"
        },
        "id": "LoEEO7c337gw",
        "outputId": "52ae33c9-8520-4238-a265-fb1b0021be36"
      },
      "execution_count": 10,
      "outputs": [
        {
          "output_type": "stream",
          "name": "stdout",
          "text": [
            "train_predict: \n",
            "[[0.066802  ]\n",
            " [0.05922091]\n",
            " [0.04302812]\n",
            " [0.07174969]\n",
            " [0.09664381]] \n",
            "\n",
            "test_predict: \n",
            "[[0.47983736]\n",
            " [0.45194995]\n",
            " [0.4580839 ]\n",
            " [0.6035743 ]\n",
            " [0.67808586]]\n"
          ]
        }
      ]
    },
    {
      "cell_type": "code",
      "source": [
        "# перевернём предсказания\n",
        "trainPredict = scaler.inverse_transform(train_predict)\n",
        "y_train = scaler.inverse_transform([y_train])\n",
        "test_predict = scaler.inverse_transform(test_predict)\n",
        "y_test = scaler.inverse_transform([y_test])"
      ],
      "metadata": {
        "id": "gwKZLDazmy3H"
      },
      "execution_count": 11,
      "outputs": []
    },
    {
      "cell_type": "code",
      "source": [
        "# вычислим среднеквадратичную метрику\n",
        "train_score = math.sqrt(mean_squared_error(y_train[0], train_predict[:,0]))\n",
        "test_score = math.sqrt(mean_squared_error(y_test[0], test_predict[:,0]))"
      ],
      "metadata": {
        "id": "A5dPRfXgGWwT"
      },
      "execution_count": 17,
      "outputs": []
    },
    {
      "cell_type": "code",
      "source": [
        "#визуализация\n",
        "train_predict_plot = np.empty_like(dataset)\n",
        "train_predict_plot[:, :] = np.nan\n",
        "train_predict_plot[look_back:len(trainPredict)+look_back, :] = train_predict\n",
        "\n",
        "test_predict_plot = np.empty_like(dataset)\n",
        "test_predict_plot[:, :] = np.nan\n",
        "test_predict_plot[len(train_predict)+(look_back*2)+1:len(dataset)-1, :] = test_predict\n",
        "\n",
        "plt.plot(scaler.inverse_transform(dataset))\n",
        "plt.plot(train_predict_plot)\n",
        "plt.plot(test_predict_plot)\n",
        "plt.show()\n",
        "\n",
        "print(f'Train Score: {train_score:.2f} RMSE')\n",
        "print(f'Test Score: {test_score:.2f} RMSE')"
      ],
      "metadata": {
        "colab": {
          "base_uri": "https://localhost:8080/",
          "height": 300
        },
        "id": "qHftCAR2HIDG",
        "outputId": "44e1d6de-7500-404d-b42d-7406ae5c6b84"
      },
      "execution_count": 18,
      "outputs": [
        {
          "output_type": "display_data",
          "data": {
            "text/plain": [
              "<Figure size 432x288 with 1 Axes>"
            ],
            "image/png": "[encoded data removed]"
          },
          "metadata": {
            "needs_background": "light"
          }
        },
        {
          "output_type": "stream",
          "name": "stdout",
          "text": [
            "Train Score: 226.70 RMSE\n",
            "Test Score: 48.12 RMSE\n"
          ]
        }
      ]
    },
    {
      "cell_type": "markdown",
      "source": [
        "train_predict прилёг("
      ],
      "metadata": {
        "id": "XNlSttLIJpDv"
      }
    },
    {
      "cell_type": "markdown",
      "source": [
        "Основную прибавку в качестве дало увеличение количества нейронов. Немного дало добавление количества эпох и увеличение батча."
      ],
      "metadata": {
        "id": "surqJs1YKInL"
      }
    }
  ]
}