{
  "nbformat": 4,
  "nbformat_minor": 0,
  "metadata": {
    "colab": {
      "name": "HW4AI.ipynb",
      "provenance": [],
      "authorship_tag": "ABX9TyP68omuhKJIj8Y1sOPeHXla",
      "include_colab_link": true
    },
    "kernelspec": {
      "name": "python3",
      "display_name": "Python 3"
    },
    "language_info": {
      "name": "python"
    },
    "accelerator": "GPU"
  },
  "cells": [
    {
      "cell_type": "markdown",
      "metadata": {
        "id": "view-in-github",
        "colab_type": "text"
      },
      "source": [
        "<a href=\"https://colab.research.google.com/github/yablockoo/GB/blob/AI/HW4AI.ipynb\" target=\"_parent\"><img src=\"https://colab.research.google.com/assets/colab-badge.svg\" alt=\"Open In Colab\"/></a>"
      ]
    },
    {
      "cell_type": "code",
      "execution_count": 55,
      "metadata": {
        "id": "lTl7OOVgd4k4",
        "colab": {
          "base_uri": "https://localhost:8080/"
        },
        "outputId": "cf1d4adf-5791-46db-f1a2-9027debf9055"
      },
      "outputs": [
        {
          "output_type": "stream",
          "name": "stdout",
          "text": [
            "Looking in indexes: https://pypi.org/simple, https://us-python.pkg.dev/colab-wheels/public/simple/\n",
            "Requirement already satisfied: pip in /usr/local/lib/python3.7/dist-packages (22.1.2)\n",
            "\u001b[33mWARNING: Running pip as the 'root' user can result in broken permissions and conflicting behaviour with the system package manager. It is recommended to use a virtual environment instead: https://pip.pypa.io/warnings/venv\u001b[0m\u001b[33m\n",
            "\u001b[0mLooking in indexes: https://pypi.org/simple, https://us-python.pkg.dev/colab-wheels/public/simple/\n",
            "Requirement already satisfied: tensorflow in /usr/local/lib/python3.7/dist-packages (2.8.2+zzzcolab20220527125636)\n",
            "Requirement already satisfied: grpcio<2.0,>=1.24.3 in /usr/local/lib/python3.7/dist-packages (from tensorflow) (1.46.3)\n",
            "Requirement already satisfied: keras<2.9,>=2.8.0rc0 in /usr/local/lib/python3.7/dist-packages (from tensorflow) (2.8.0)\n",
            "Requirement already satisfied: absl-py>=0.4.0 in /usr/local/lib/python3.7/dist-packages (from tensorflow) (1.0.0)\n",
            "Requirement already satisfied: h5py>=2.9.0 in /usr/local/lib/python3.7/dist-packages (from tensorflow) (3.1.0)\n",
            "Requirement already satisfied: wrapt>=1.11.0 in /usr/local/lib/python3.7/dist-packages (from tensorflow) (1.14.1)\n",
            "Requirement already satisfied: opt-einsum>=2.3.2 in /usr/local/lib/python3.7/dist-packages (from tensorflow) (3.3.0)\n",
            "Requirement already satisfied: protobuf<3.20,>=3.9.2 in /usr/local/lib/python3.7/dist-packages (from tensorflow) (3.17.3)\n",
            "Requirement already satisfied: setuptools in /usr/local/lib/python3.7/dist-packages (from tensorflow) (57.4.0)\n",
            "Requirement already satisfied: astunparse>=1.6.0 in /usr/local/lib/python3.7/dist-packages (from tensorflow) (1.6.3)\n",
            "Requirement already satisfied: gast>=0.2.1 in /usr/local/lib/python3.7/dist-packages (from tensorflow) (0.5.3)\n",
            "Requirement already satisfied: libclang>=9.0.1 in /usr/local/lib/python3.7/dist-packages (from tensorflow) (14.0.1)\n",
            "Requirement already satisfied: numpy>=1.20 in /usr/local/lib/python3.7/dist-packages (from tensorflow) (1.21.6)\n",
            "Requirement already satisfied: typing-extensions>=3.6.6 in /usr/local/lib/python3.7/dist-packages (from tensorflow) (4.2.0)\n",
            "Requirement already satisfied: keras-preprocessing>=1.1.1 in /usr/local/lib/python3.7/dist-packages (from tensorflow) (1.1.2)\n",
            "Requirement already satisfied: flatbuffers>=1.12 in /usr/local/lib/python3.7/dist-packages (from tensorflow) (2.0)\n",
            "Requirement already satisfied: tensorboard<2.9,>=2.8 in /usr/local/lib/python3.7/dist-packages (from tensorflow) (2.8.0)\n",
            "Requirement already satisfied: termcolor>=1.1.0 in /usr/local/lib/python3.7/dist-packages (from tensorflow) (1.1.0)\n",
            "Requirement already satisfied: tensorflow-io-gcs-filesystem>=0.23.1 in /usr/local/lib/python3.7/dist-packages (from tensorflow) (0.26.0)\n",
            "Requirement already satisfied: google-pasta>=0.1.1 in /usr/local/lib/python3.7/dist-packages (from tensorflow) (0.2.0)\n",
            "Requirement already satisfied: tensorflow-estimator<2.9,>=2.8 in /usr/local/lib/python3.7/dist-packages (from tensorflow) (2.8.0)\n",
            "Requirement already satisfied: six>=1.12.0 in /usr/local/lib/python3.7/dist-packages (from tensorflow) (1.15.0)\n",
            "Requirement already satisfied: wheel<1.0,>=0.23.0 in /usr/local/lib/python3.7/dist-packages (from astunparse>=1.6.0->tensorflow) (0.37.1)\n",
            "Requirement already satisfied: cached-property in /usr/local/lib/python3.7/dist-packages (from h5py>=2.9.0->tensorflow) (1.5.2)\n",
            "Requirement already satisfied: google-auth-oauthlib<0.5,>=0.4.1 in /usr/local/lib/python3.7/dist-packages (from tensorboard<2.9,>=2.8->tensorflow) (0.4.6)\n",
            "Requirement already satisfied: tensorboard-data-server<0.7.0,>=0.6.0 in /usr/local/lib/python3.7/dist-packages (from tensorboard<2.9,>=2.8->tensorflow) (0.6.1)\n",
            "Requirement already satisfied: requests<3,>=2.21.0 in /usr/local/lib/python3.7/dist-packages (from tensorboard<2.9,>=2.8->tensorflow) (2.23.0)\n",
            "Requirement already satisfied: google-auth<3,>=1.6.3 in /usr/local/lib/python3.7/dist-packages (from tensorboard<2.9,>=2.8->tensorflow) (1.35.0)\n",
            "Requirement already satisfied: werkzeug>=0.11.15 in /usr/local/lib/python3.7/dist-packages (from tensorboard<2.9,>=2.8->tensorflow) (1.0.1)\n",
            "Requirement already satisfied: markdown>=2.6.8 in /usr/local/lib/python3.7/dist-packages (from tensorboard<2.9,>=2.8->tensorflow) (3.3.7)\n",
            "Requirement already satisfied: tensorboard-plugin-wit>=1.6.0 in /usr/local/lib/python3.7/dist-packages (from tensorboard<2.9,>=2.8->tensorflow) (1.8.1)\n",
            "Requirement already satisfied: cachetools<5.0,>=2.0.0 in /usr/local/lib/python3.7/dist-packages (from google-auth<3,>=1.6.3->tensorboard<2.9,>=2.8->tensorflow) (4.2.4)\n",
            "Requirement already satisfied: rsa<5,>=3.1.4 in /usr/local/lib/python3.7/dist-packages (from google-auth<3,>=1.6.3->tensorboard<2.9,>=2.8->tensorflow) (4.8)\n",
            "Requirement already satisfied: pyasn1-modules>=0.2.1 in /usr/local/lib/python3.7/dist-packages (from google-auth<3,>=1.6.3->tensorboard<2.9,>=2.8->tensorflow) (0.2.8)\n",
            "Requirement already satisfied: requests-oauthlib>=0.7.0 in /usr/local/lib/python3.7/dist-packages (from google-auth-oauthlib<0.5,>=0.4.1->tensorboard<2.9,>=2.8->tensorflow) (1.3.1)\n",
            "Requirement already satisfied: importlib-metadata>=4.4 in /usr/local/lib/python3.7/dist-packages (from markdown>=2.6.8->tensorboard<2.9,>=2.8->tensorflow) (4.11.4)\n",
            "Requirement already satisfied: idna<3,>=2.5 in /usr/local/lib/python3.7/dist-packages (from requests<3,>=2.21.0->tensorboard<2.9,>=2.8->tensorflow) (2.10)\n",
            "Requirement already satisfied: chardet<4,>=3.0.2 in /usr/local/lib/python3.7/dist-packages (from requests<3,>=2.21.0->tensorboard<2.9,>=2.8->tensorflow) (3.0.4)\n",
            "Requirement already satisfied: urllib3!=1.25.0,!=1.25.1,<1.26,>=1.21.1 in /usr/local/lib/python3.7/dist-packages (from requests<3,>=2.21.0->tensorboard<2.9,>=2.8->tensorflow) (1.24.3)\n",
            "Requirement already satisfied: certifi>=2017.4.17 in /usr/local/lib/python3.7/dist-packages (from requests<3,>=2.21.0->tensorboard<2.9,>=2.8->tensorflow) (2022.5.18.1)\n",
            "Requirement already satisfied: zipp>=0.5 in /usr/local/lib/python3.7/dist-packages (from importlib-metadata>=4.4->markdown>=2.6.8->tensorboard<2.9,>=2.8->tensorflow) (3.8.0)\n",
            "Requirement already satisfied: pyasn1<0.5.0,>=0.4.6 in /usr/local/lib/python3.7/dist-packages (from pyasn1-modules>=0.2.1->google-auth<3,>=1.6.3->tensorboard<2.9,>=2.8->tensorflow) (0.4.8)\n",
            "Requirement already satisfied: oauthlib>=3.0.0 in /usr/local/lib/python3.7/dist-packages (from requests-oauthlib>=0.7.0->google-auth-oauthlib<0.5,>=0.4.1->tensorboard<2.9,>=2.8->tensorflow) (3.2.0)\n",
            "\u001b[33mWARNING: Running pip as the 'root' user can result in broken permissions and conflicting behaviour with the system package manager. It is recommended to use a virtual environment instead: https://pip.pypa.io/warnings/venv\u001b[0m\u001b[33m\n",
            "\u001b[0m"
          ]
        }
      ],
      "source": [
        "\n",
        "!pip install --upgrade pip\n",
        "\n",
        "!pip install tensorflow\n"
      ]
    },
    {
      "cell_type": "code",
      "source": [
        "import cv2\n",
        "import numpy as np\n",
        "import pandas as pd\n",
        "import tensorflow as tf\n",
        "from sklearn.model_selection import train_test_split\n",
        "from tensorflow.keras.models import Sequential\n",
        "from tensorflow.keras.layers import Dense, Dropout, Activation, Flatten, Input\n",
        "from tensorflow.keras.layers import Conv2D, MaxPooling2D\n",
        "import os\n",
        "from tensorflow.keras.utils import to_categorical\n",
        "import matplotlib.pyplot as plt\n"
      ],
      "metadata": {
        "id": "X4LqNOWSiUM6"
      },
      "execution_count": 56,
      "outputs": []
    },
    {
      "cell_type": "markdown",
      "source": [
        "1 - обучить сверточную нейронную сеть в стиле AlexNet (с падением размера ядра свертки и последовательностью блоков свертка-пулинг (conv-pool)-(conv-pool)-...) на датасете fashion-mnist или cifar10\n",
        "\n",
        "2 - оценить рост точности при увеличении ширины сети (больше ядер)\n",
        "\n",
        "3 - оценить рост точности при увеличении глубины сети (больше слоев)"
      ],
      "metadata": {
        "id": "v1JVlBxnivFo"
      }
    },
    {
      "cell_type": "code",
      "source": [
        "\n",
        "# установка параметров нейросети\n",
        "batch_size = 28\n",
        "num_classes = 10\n",
        "epochs = 5\n",
        "data_augmentation = False\n",
        "num_predictions = 20\n",
        "save_dir = os.path.join(os.getcwd(), 'saved_models')\n",
        "model_name = 'keras_cifar10_trained_model.h5'\n",
        "\n",
        "fashion_mnist = tf.keras.datasets.fashion_mnist\n",
        "(x_train, y_train), (x_test, y_test) = fashion_mnist.load_data()\n",
        "\n",
        "y_train = to_categorical(y_train)\n",
        "y_test = to_categorical(y_test)\n",
        "\n",
        "x_train = x_train.astype('float32')\n",
        "x_test = x_test.astype('float32')\n",
        "x_train /= 255\n",
        "x_test /= 255"
      ],
      "metadata": {
        "id": "OsOERAUKipGd"
      },
      "execution_count": 57,
      "outputs": []
    },
    {
      "cell_type": "code",
      "source": [
        "x_train = x_train.reshape(60000, 28, 28, 1)\n",
        "x_test = x_test.reshape(10000, 28, 28, 1)"
      ],
      "metadata": {
        "id": "tUNdTCX10mea"
      },
      "execution_count": 58,
      "outputs": []
    },
    {
      "cell_type": "code",
      "source": [
        "print('x_train shape:', x_train.shape)\n",
        "print(x_train.shape[0], 'тренировочные примеры')\n",
        "print(x_test.shape[0], 'тестовые примеры')"
      ],
      "metadata": {
        "colab": {
          "base_uri": "https://localhost:8080/"
        },
        "id": "v6aLvEOJz8Ii",
        "outputId": "2c56e47f-42b5-470c-8c0a-d0255c79a0b7"
      },
      "execution_count": 59,
      "outputs": [
        {
          "output_type": "stream",
          "name": "stdout",
          "text": [
            "x_train shape: (60000, 28, 28, 1)\n",
            "60000 тренировочные примеры\n",
            "10000 тестовые примеры\n"
          ]
        }
      ]
    },
    {
      "cell_type": "code",
      "source": [
        "# конфигурирование слоев нейросети\n",
        "model = Sequential()\n",
        "\n",
        "# слои нейросети отвественные за свертку и max-pooling\n",
        "model.add(Conv2D(28, (3, 3), padding='same',\n",
        "                 input_shape=x_train.shape[1:]))\n",
        "model.add(Activation('relu'))\n",
        "model.add(Conv2D(28, (3, 3)))\n",
        "model.add(Activation('relu'))\n",
        "model.add(MaxPooling2D(pool_size=(2, 2)))\n",
        "model.add(Dropout( 0.25))\n",
        "\n",
        "model.add(Conv2D(64, (3, 3), padding='same'))\n",
        "model.add(Activation('relu'))\n",
        "model.add(Conv2D(64, (3, 3)))\n",
        "model.add(Activation('relu'))\n",
        "model.add(MaxPooling2D(pool_size=(2, 2)))\n",
        "model.add(Dropout(0.25))\n",
        "\n",
        "# полносвязные слои нейронной сети\n",
        "model.add(Flatten())\n",
        "model.add(Dense(512))\n",
        "model.add(Activation('relu'))\n",
        "model.add(Dropout(0.5))\n",
        "model.add(Dense(num_classes))\n",
        "model.add(Activation('softmax'))\n",
        "\n",
        "# компиляция модели\n",
        "model.compile(loss='categorical_crossentropy',\n",
        "              optimizer='SGD',\n",
        "              metrics=['accuracy'])\n"
      ],
      "metadata": {
        "id": "Me9XuV-2n3jj"
      },
      "execution_count": 60,
      "outputs": []
    },
    {
      "cell_type": "code",
      "source": [
        "#обучение\n",
        "model.fit(x_train, y_train,\n",
        "          batch_size=batch_size,\n",
        "          epochs=epochs,\n",
        "          validation_data=(x_test, y_test),\n",
        "          shuffle=True)\n"
      ],
      "metadata": {
        "colab": {
          "base_uri": "https://localhost:8080/"
        },
        "id": "xQZVKcnS-O-1",
        "outputId": "509b556a-bf17-405b-a3ed-73ea4192e29d"
      },
      "execution_count": 61,
      "outputs": [
        {
          "output_type": "stream",
          "name": "stdout",
          "text": [
            "Epoch 1/5\n",
            "2143/2143 [==============================] - 15s 7ms/step - loss: 0.9826 - accuracy: 0.6320 - val_loss: 0.6094 - val_accuracy: 0.7653\n",
            "Epoch 2/5\n",
            "2143/2143 [==============================] - 10s 5ms/step - loss: 0.6014 - accuracy: 0.7740 - val_loss: 0.5114 - val_accuracy: 0.8080\n",
            "Epoch 3/5\n",
            "2143/2143 [==============================] - 10s 5ms/step - loss: 0.5200 - accuracy: 0.8058 - val_loss: 0.4476 - val_accuracy: 0.8386\n",
            "Epoch 4/5\n",
            "2143/2143 [==============================] - 10s 5ms/step - loss: 0.4743 - accuracy: 0.8231 - val_loss: 0.4064 - val_accuracy: 0.8539\n",
            "Epoch 5/5\n",
            "2143/2143 [==============================] - 11s 5ms/step - loss: 0.4380 - accuracy: 0.8383 - val_loss: 0.3896 - val_accuracy: 0.8581\n"
          ]
        },
        {
          "output_type": "execute_result",
          "data": {
            "text/plain": [
              "<keras.callbacks.History at 0x7f148482e810>"
            ]
          },
          "metadata": {},
          "execution_count": 61
        }
      ]
    },
    {
      "cell_type": "code",
      "source": [
        "results = {}\n",
        "# проверка работы обученной модели\n",
        "scores = model.evaluate(x_test, y_test, verbose=1)\n",
        "print('Test loss:', scores[0])\n",
        "print('Test accuracy:', scores[1])\n",
        "results['default'] =  scores[0], scores[1]"
      ],
      "metadata": {
        "colab": {
          "base_uri": "https://localhost:8080/"
        },
        "id": "z-fNoMDI-Skj",
        "outputId": "ebe3cadd-1b98-4ed6-8058-912d84095596"
      },
      "execution_count": 62,
      "outputs": [
        {
          "output_type": "stream",
          "name": "stdout",
          "text": [
            "313/313 [==============================] - 1s 3ms/step - loss: 0.3896 - accuracy: 0.8581\n",
            "Test loss: 0.38958117365837097\n",
            "Test accuracy: 0.8580999970436096\n"
          ]
        }
      ]
    },
    {
      "cell_type": "markdown",
      "source": [
        "Сделаем сеть поглубже"
      ],
      "metadata": {
        "id": "h4MQqxlnYF7r"
      }
    },
    {
      "cell_type": "code",
      "source": [
        "\n",
        "model1 = Sequential()\n",
        "\n",
        "\n",
        "model1.add(Conv2D(32, (3, 3), padding='same',\n",
        "                 input_shape=x_train.shape[1:]))\n",
        "model1.add(Activation('relu'))\n",
        "model1.add(Conv2D(32, (3, 3)))\n",
        "model1.add(Activation('relu'))\n",
        "model1.add(MaxPooling2D(pool_size=(2, 2)))\n",
        "model1.add(Dropout( 0.25))\n",
        "\n",
        "model1.add(Conv2D(64, (3, 3), padding='same'))\n",
        "model1.add(Activation('relu'))\n",
        "model1.add(Conv2D(64, (3, 3)))\n",
        "model1.add(Activation('relu'))\n",
        "model1.add(MaxPooling2D(pool_size=(2, 2)))\n",
        "model1.add(Dropout(0.25))\n",
        "\n",
        "#добавим еще две свертки и пуллинг\n",
        "model1.add(Conv2D(64, (3, 3), padding='same'))\n",
        "model1.add(Activation('relu'))\n",
        "model1.add(Conv2D(64, (3, 3)))\n",
        "model1.add(Activation('relu'))\n",
        "model1.add(MaxPooling2D(pool_size=(2, 2)))\n",
        "model1.add(Dropout(0.25))\n",
        "\n",
        "model1.add(Flatten())\n",
        "model1.add(Dense(512))\n",
        "model1.add(Activation('relu'))\n",
        "model1.add(Dropout(0.5))\n",
        "model1.add(Dense(num_classes))\n",
        "model1.add(Activation('softmax'))\n",
        "\n",
        "\n",
        "model1.compile(loss='categorical_crossentropy',\n",
        "              optimizer='SGD',\n",
        "              metrics=['accuracy'])\n",
        "\n",
        "model1.fit(x_train, y_train,\n",
        "          batch_size=batch_size,\n",
        "          epochs=epochs,\n",
        "          validation_data=(x_test, y_test),\n",
        "          shuffle=True)\n",
        "\n",
        "\n",
        "scores = model1.evaluate(x_test, y_test, verbose=1)\n",
        "print('Test loss:', scores[0])\n",
        "print('Test accuracy:', scores[1])\n",
        "results['deeper'] =  scores[0], scores[1]"
      ],
      "metadata": {
        "colab": {
          "base_uri": "https://localhost:8080/"
        },
        "id": "_8knxqsBGARD",
        "outputId": "32b3d853-0804-4b29-fcee-5d9699362660"
      },
      "execution_count": 63,
      "outputs": [
        {
          "output_type": "stream",
          "name": "stdout",
          "text": [
            "Epoch 1/5\n",
            "2143/2143 [==============================] - 12s 5ms/step - loss: 1.6124 - accuracy: 0.3909 - val_loss: 0.8229 - val_accuracy: 0.6844\n",
            "Epoch 2/5\n",
            "2143/2143 [==============================] - 12s 6ms/step - loss: 0.8409 - accuracy: 0.6804 - val_loss: 0.6739 - val_accuracy: 0.7417\n",
            "Epoch 3/5\n",
            "2143/2143 [==============================] - 11s 5ms/step - loss: 0.6900 - accuracy: 0.7409 - val_loss: 0.5632 - val_accuracy: 0.7871\n",
            "Epoch 4/5\n",
            "2143/2143 [==============================] - 11s 5ms/step - loss: 0.6124 - accuracy: 0.7691 - val_loss: 0.5062 - val_accuracy: 0.8103\n",
            "Epoch 5/5\n",
            "2143/2143 [==============================] - 11s 5ms/step - loss: 0.5575 - accuracy: 0.7912 - val_loss: 0.4665 - val_accuracy: 0.8261\n",
            "313/313 [==============================] - 1s 3ms/step - loss: 0.4665 - accuracy: 0.8261\n",
            "Test loss: 0.4664786756038666\n",
            "Test accuracy: 0.8260999917984009\n"
          ]
        }
      ]
    },
    {
      "cell_type": "code",
      "source": [
        "model1.summary()"
      ],
      "metadata": {
        "colab": {
          "base_uri": "https://localhost:8080/"
        },
        "id": "DA5dHTcmcTVY",
        "outputId": "d2f15b37-5e4f-4df7-82b7-9c07451f71c0"
      },
      "execution_count": 64,
      "outputs": [
        {
          "output_type": "stream",
          "name": "stdout",
          "text": [
            "Model: \"sequential_13\"\n",
            "_________________________________________________________________\n",
            " Layer (type)                Output Shape              Param #   \n",
            "=================================================================\n",
            " conv2d_66 (Conv2D)          (None, 28, 28, 32)        320       \n",
            "                                                                 \n",
            " activation_92 (Activation)  (None, 28, 28, 32)        0         \n",
            "                                                                 \n",
            " conv2d_67 (Conv2D)          (None, 26, 26, 32)        9248      \n",
            "                                                                 \n",
            " activation_93 (Activation)  (None, 26, 26, 32)        0         \n",
            "                                                                 \n",
            " max_pooling2d_30 (MaxPoolin  (None, 13, 13, 32)       0         \n",
            " g2D)                                                            \n",
            "                                                                 \n",
            " dropout_46 (Dropout)        (None, 13, 13, 32)        0         \n",
            "                                                                 \n",
            " conv2d_68 (Conv2D)          (None, 13, 13, 64)        18496     \n",
            "                                                                 \n",
            " activation_94 (Activation)  (None, 13, 13, 64)        0         \n",
            "                                                                 \n",
            " conv2d_69 (Conv2D)          (None, 11, 11, 64)        36928     \n",
            "                                                                 \n",
            " activation_95 (Activation)  (None, 11, 11, 64)        0         \n",
            "                                                                 \n",
            " max_pooling2d_31 (MaxPoolin  (None, 5, 5, 64)         0         \n",
            " g2D)                                                            \n",
            "                                                                 \n",
            " dropout_47 (Dropout)        (None, 5, 5, 64)          0         \n",
            "                                                                 \n",
            " conv2d_70 (Conv2D)          (None, 5, 5, 64)          36928     \n",
            "                                                                 \n",
            " activation_96 (Activation)  (None, 5, 5, 64)          0         \n",
            "                                                                 \n",
            " conv2d_71 (Conv2D)          (None, 3, 3, 64)          36928     \n",
            "                                                                 \n",
            " activation_97 (Activation)  (None, 3, 3, 64)          0         \n",
            "                                                                 \n",
            " max_pooling2d_32 (MaxPoolin  (None, 1, 1, 64)         0         \n",
            " g2D)                                                            \n",
            "                                                                 \n",
            " dropout_48 (Dropout)        (None, 1, 1, 64)          0         \n",
            "                                                                 \n",
            " flatten_13 (Flatten)        (None, 64)                0         \n",
            "                                                                 \n",
            " dense_26 (Dense)            (None, 512)               33280     \n",
            "                                                                 \n",
            " activation_98 (Activation)  (None, 512)               0         \n",
            "                                                                 \n",
            " dropout_49 (Dropout)        (None, 512)               0         \n",
            "                                                                 \n",
            " dense_27 (Dense)            (None, 10)                5130      \n",
            "                                                                 \n",
            " activation_99 (Activation)  (None, 10)                0         \n",
            "                                                                 \n",
            "=================================================================\n",
            "Total params: 177,258\n",
            "Trainable params: 177,258\n",
            "Non-trainable params: 0\n",
            "_________________________________________________________________\n"
          ]
        }
      ]
    },
    {
      "cell_type": "markdown",
      "source": [
        "Уберём последний пуллинг дабы избежать уменьшения числа карт признаков."
      ],
      "metadata": {
        "id": "BljwuRNnetKq"
      }
    },
    {
      "cell_type": "code",
      "source": [
        "\n",
        "model1_mod = Sequential()\n",
        "\n",
        "\n",
        "model1_mod.add(Conv2D(32, (3, 3), padding='same',\n",
        "                 input_shape=x_train.shape[1:]))\n",
        "model1_mod.add(Activation('relu'))\n",
        "model1_mod.add(Conv2D(32, (3, 3)))\n",
        "model1_mod.add(Activation('relu'))\n",
        "model1_mod.add(MaxPooling2D(pool_size=(2, 2)))\n",
        "model1_mod.add(Dropout( 0.25))\n",
        "\n",
        "model1_mod.add(Conv2D(64, (3, 3), padding='same'))\n",
        "model1_mod.add(Activation('relu'))\n",
        "model1_mod.add(Conv2D(64, (3, 3)))\n",
        "model1_mod.add(Activation('relu'))\n",
        "model1_mod.add(MaxPooling2D(pool_size=(2, 2)))\n",
        "model1_mod.add(Dropout(0.25))\n",
        "\n",
        "#добавим еще две свертки\n",
        "model1_mod.add(Conv2D(64, (3, 3), padding='same'))\n",
        "model1_mod.add(Activation('relu'))\n",
        "model1_mod.add(Conv2D(64, (3, 3)))\n",
        "model1_mod.add(Activation('relu'))\n",
        "# model1.add(MaxPooling2D(pool_size=(2, 2)))\n",
        "model1_mod.add(Dropout(0.25))\n",
        "\n",
        "model1_mod.add(Flatten())\n",
        "model1_mod.add(Dense(512))\n",
        "model1_mod.add(Activation('relu'))\n",
        "model1_mod.add(Dropout(0.5))\n",
        "model1_mod.add(Dense(num_classes))\n",
        "model1_mod.add(Activation('softmax'))\n",
        "\n",
        "\n",
        "model1_mod.compile(loss='categorical_crossentropy',\n",
        "              optimizer='SGD',\n",
        "              metrics=['accuracy'])\n",
        "\n",
        "model1_mod.fit(x_train, y_train,\n",
        "          batch_size=batch_size,\n",
        "          epochs=epochs,\n",
        "          validation_data=(x_test, y_test),\n",
        "          shuffle=True)\n",
        "\n",
        "\n",
        "scores = model1_mod.evaluate(x_test, y_test, verbose=1)\n",
        "print('Test loss:', scores[0])\n",
        "print('Test accuracy:', scores[1])\n",
        "results['deeper_mod'] =  scores[0], scores[1]"
      ],
      "metadata": {
        "colab": {
          "base_uri": "https://localhost:8080/"
        },
        "id": "IA7qQgKbesso",
        "outputId": "77a8f5c7-f216-4c9c-d313-ac4f9e47876e"
      },
      "execution_count": 65,
      "outputs": [
        {
          "output_type": "stream",
          "name": "stdout",
          "text": [
            "Epoch 1/5\n",
            "2143/2143 [==============================] - 13s 6ms/step - loss: 1.2620 - accuracy: 0.5215 - val_loss: 0.6856 - val_accuracy: 0.7336\n",
            "Epoch 2/5\n",
            "2143/2143 [==============================] - 12s 6ms/step - loss: 0.6717 - accuracy: 0.7441 - val_loss: 0.5589 - val_accuracy: 0.7871\n",
            "Epoch 3/5\n",
            "2143/2143 [==============================] - 12s 6ms/step - loss: 0.5666 - accuracy: 0.7853 - val_loss: 0.4852 - val_accuracy: 0.8147\n",
            "Epoch 4/5\n",
            "2143/2143 [==============================] - 12s 6ms/step - loss: 0.5122 - accuracy: 0.8056 - val_loss: 0.4468 - val_accuracy: 0.8302\n",
            "Epoch 5/5\n",
            "2143/2143 [==============================] - 12s 6ms/step - loss: 0.4759 - accuracy: 0.8214 - val_loss: 0.4166 - val_accuracy: 0.8421\n",
            "313/313 [==============================] - 1s 4ms/step - loss: 0.4166 - accuracy: 0.8421\n",
            "Test loss: 0.41662806272506714\n",
            "Test accuracy: 0.8421000242233276\n"
          ]
        }
      ]
    },
    {
      "cell_type": "code",
      "source": [
        "model1_mod.summary()"
      ],
      "metadata": {
        "colab": {
          "base_uri": "https://localhost:8080/"
        },
        "id": "kHH0BsbTfQC9",
        "outputId": "5c91c49c-7df8-4767-d3b3-2dd4f84dc247"
      },
      "execution_count": 66,
      "outputs": [
        {
          "output_type": "stream",
          "name": "stdout",
          "text": [
            "Model: \"sequential_14\"\n",
            "_________________________________________________________________\n",
            " Layer (type)                Output Shape              Param #   \n",
            "=================================================================\n",
            " conv2d_72 (Conv2D)          (None, 28, 28, 32)        320       \n",
            "                                                                 \n",
            " activation_100 (Activation)  (None, 28, 28, 32)       0         \n",
            "                                                                 \n",
            " conv2d_73 (Conv2D)          (None, 26, 26, 32)        9248      \n",
            "                                                                 \n",
            " activation_101 (Activation)  (None, 26, 26, 32)       0         \n",
            "                                                                 \n",
            " max_pooling2d_33 (MaxPoolin  (None, 13, 13, 32)       0         \n",
            " g2D)                                                            \n",
            "                                                                 \n",
            " dropout_50 (Dropout)        (None, 13, 13, 32)        0         \n",
            "                                                                 \n",
            " conv2d_74 (Conv2D)          (None, 13, 13, 64)        18496     \n",
            "                                                                 \n",
            " activation_102 (Activation)  (None, 13, 13, 64)       0         \n",
            "                                                                 \n",
            " conv2d_75 (Conv2D)          (None, 11, 11, 64)        36928     \n",
            "                                                                 \n",
            " activation_103 (Activation)  (None, 11, 11, 64)       0         \n",
            "                                                                 \n",
            " max_pooling2d_34 (MaxPoolin  (None, 5, 5, 64)         0         \n",
            " g2D)                                                            \n",
            "                                                                 \n",
            " dropout_51 (Dropout)        (None, 5, 5, 64)          0         \n",
            "                                                                 \n",
            " conv2d_76 (Conv2D)          (None, 5, 5, 64)          36928     \n",
            "                                                                 \n",
            " activation_104 (Activation)  (None, 5, 5, 64)         0         \n",
            "                                                                 \n",
            " conv2d_77 (Conv2D)          (None, 3, 3, 64)          36928     \n",
            "                                                                 \n",
            " activation_105 (Activation)  (None, 3, 3, 64)         0         \n",
            "                                                                 \n",
            " dropout_52 (Dropout)        (None, 3, 3, 64)          0         \n",
            "                                                                 \n",
            " flatten_14 (Flatten)        (None, 576)               0         \n",
            "                                                                 \n",
            " dense_28 (Dense)            (None, 512)               295424    \n",
            "                                                                 \n",
            " activation_106 (Activation)  (None, 512)              0         \n",
            "                                                                 \n",
            " dropout_53 (Dropout)        (None, 512)               0         \n",
            "                                                                 \n",
            " dense_29 (Dense)            (None, 10)                5130      \n",
            "                                                                 \n",
            " activation_107 (Activation)  (None, 10)               0         \n",
            "                                                                 \n",
            "=================================================================\n",
            "Total params: 439,402\n",
            "Trainable params: 439,402\n",
            "Non-trainable params: 0\n",
            "_________________________________________________________________\n"
          ]
        }
      ]
    },
    {
      "cell_type": "markdown",
      "source": [
        "Сделаем сеть пошире"
      ],
      "metadata": {
        "id": "tIk40St0YLej"
      }
    },
    {
      "cell_type": "code",
      "source": [
        "\n",
        "model2 = Sequential()\n",
        "\n",
        "#увеличим количество нейронов в два раза в каждом слое\n",
        "model2.add(Conv2D(64, (3, 3), padding='same',\n",
        "                 input_shape=x_train.shape[1:]))\n",
        "model2.add(Activation('relu'))\n",
        "model2.add(Conv2D(64, (3, 3)))\n",
        "model2.add(Activation('relu'))\n",
        "model2.add(MaxPooling2D(pool_size=(2, 2)))\n",
        "model2.add(Dropout( 0.25))\n",
        "\n",
        "model2.add(Conv2D(128, (3, 3), padding='same'))\n",
        "model2.add(Activation('relu'))\n",
        "model2.add(Conv2D(128, (3, 3)))\n",
        "model2.add(Activation('relu'))\n",
        "model2.add(MaxPooling2D(pool_size=(2, 2)))\n",
        "model2.add(Dropout(0.25))\n",
        "\n",
        "model2.add(Flatten())\n",
        "model2.add(Dense(1024))\n",
        "model2.add(Activation('relu'))\n",
        "model2.add(Dropout(0.5))\n",
        "model2.add(Dense(num_classes))\n",
        "model2.add(Activation('softmax'))\n",
        "\n",
        "\n",
        "model2.compile(loss='categorical_crossentropy',\n",
        "              optimizer='SGD',\n",
        "              metrics=['accuracy'])\n",
        "\n",
        "model2.fit(x_train, y_train,\n",
        "          batch_size=batch_size,\n",
        "          epochs=epochs,\n",
        "          validation_data=(x_test, y_test),\n",
        "          shuffle=True)\n",
        "\n",
        "\n",
        "scores = model2.evaluate(x_test, y_test, verbose=1)\n",
        "print('Test loss:', scores[0])\n",
        "print('Test accuracy:', scores[1])\n",
        "results['wider'] =  scores[0], scores[1]"
      ],
      "metadata": {
        "colab": {
          "base_uri": "https://localhost:8080/"
        },
        "id": "FzywMFyyX9Ua",
        "outputId": "acac629e-651f-48bf-8f9b-3b2ae5754962"
      },
      "execution_count": 67,
      "outputs": [
        {
          "output_type": "stream",
          "name": "stdout",
          "text": [
            "Epoch 1/5\n",
            "2143/2143 [==============================] - 15s 7ms/step - loss: 0.9027 - accuracy: 0.6649 - val_loss: 0.5635 - val_accuracy: 0.7834\n",
            "Epoch 2/5\n",
            "2143/2143 [==============================] - 14s 7ms/step - loss: 0.5325 - accuracy: 0.8025 - val_loss: 0.4555 - val_accuracy: 0.8343\n",
            "Epoch 3/5\n",
            "2143/2143 [==============================] - 14s 7ms/step - loss: 0.4617 - accuracy: 0.8307 - val_loss: 0.4233 - val_accuracy: 0.8450\n",
            "Epoch 4/5\n",
            "2143/2143 [==============================] - 14s 7ms/step - loss: 0.4194 - accuracy: 0.8470 - val_loss: 0.3803 - val_accuracy: 0.8592\n",
            "Epoch 5/5\n",
            "2143/2143 [==============================] - 14s 7ms/step - loss: 0.3899 - accuracy: 0.8569 - val_loss: 0.3585 - val_accuracy: 0.8692\n",
            "313/313 [==============================] - 1s 4ms/step - loss: 0.3585 - accuracy: 0.8692\n",
            "Test loss: 0.3585285246372223\n",
            "Test accuracy: 0.8691999912261963\n"
          ]
        }
      ]
    },
    {
      "cell_type": "code",
      "source": [
        "result = pd.DataFrame(results, index=['loss', 'accuracy'])\n",
        "result"
      ],
      "metadata": {
        "colab": {
          "base_uri": "https://localhost:8080/",
          "height": 112
        },
        "id": "UEGEHqRfasRQ",
        "outputId": "57977fe5-a0f3-4e74-f0ae-3282f8341c46"
      },
      "execution_count": 68,
      "outputs": [
        {
          "output_type": "execute_result",
          "data": {
            "text/plain": [
              "           default    deeper  deeper_mod     wider\n",
              "loss      0.389581  0.466479    0.416628  0.358529\n",
              "accuracy  0.858100  0.826100    0.842100  0.869200"
            ],
            "text/html": [
              "\n",
              "  <div id=\"df-dda43785-2834-489d-95fa-91bcca2b0fbc\">\n",
              "    <div class=\"colab-df-container\">\n",
              "      <div>\n",
              "<style scoped>\n",
              "    .dataframe tbody tr th:only-of-type {\n",
              "        vertical-align: middle;\n",
              "    }\n",
              "\n",
              "    .dataframe tbody tr th {\n",
              "        vertical-align: top;\n",
              "    }\n",
              "\n",
              "    .dataframe thead th {\n",
              "        text-align: right;\n",
              "    }\n",
              "</style>\n",
              "<table border=\"1\" class=\"dataframe\">\n",
              "  <thead>\n",
              "    <tr style=\"text-align: right;\">\n",
              "      <th></th>\n",
              "      <th>default</th>\n",
              "      <th>deeper</th>\n",
              "      <th>deeper_mod</th>\n",
              "      <th>wider</th>\n",
              "    </tr>\n",
              "  </thead>\n",
              "  <tbody>\n",
              "    <tr>\n",
              "      <th>loss</th>\n",
              "      <td>0.389581</td>\n",
              "      <td>0.466479</td>\n",
              "      <td>0.416628</td>\n",
              "      <td>0.358529</td>\n",
              "    </tr>\n",
              "    <tr>\n",
              "      <th>accuracy</th>\n",
              "      <td>0.858100</td>\n",
              "      <td>0.826100</td>\n",
              "      <td>0.842100</td>\n",
              "      <td>0.869200</td>\n",
              "    </tr>\n",
              "  </tbody>\n",
              "</table>\n",
              "</div>\n",
              "      <button class=\"colab-df-convert\" onclick=\"convertToInteractive('df-dda43785-2834-489d-95fa-91bcca2b0fbc')\"\n",
              "              title=\"Convert this dataframe to an interactive table.\"\n",
              "              style=\"display:none;\">\n",
              "        \n",
              "  <svg xmlns=\"http://www.w3.org/2000/svg\" height=\"24px\"viewBox=\"0 0 24 24\"\n",
              "       width=\"24px\">\n",
              "    <path d=\"M0 0h24v24H0V0z\" fill=\"none\"/>\n",
              "    <path d=\"M18.56 5.44l.94 2.06.94-2.06 2.06-.94-2.06-.94-.94-2.06-.94 2.06-2.06.94zm-11 1L8.5 8.5l.94-2.06 2.06-.94-2.06-.94L8.5 2.5l-.94 2.06-2.06.94zm10 10l.94 2.06.94-2.06 2.06-.94-2.06-.94-.94-2.06-.94 2.06-2.06.94z\"/><path d=\"M17.41 7.96l-1.37-1.37c-.4-.4-.92-.59-1.43-.59-.52 0-1.04.2-1.43.59L10.3 9.45l-7.72 7.72c-.78.78-.78 2.05 0 2.83L4 21.41c.39.39.9.59 1.41.59.51 0 1.02-.2 1.41-.59l7.78-7.78 2.81-2.81c.8-.78.8-2.07 0-2.86zM5.41 20L4 18.59l7.72-7.72 1.47 1.35L5.41 20z\"/>\n",
              "  </svg>\n",
              "      </button>\n",
              "      \n",
              "  <style>\n",
              "    .colab-df-container {\n",
              "      display:flex;\n",
              "      flex-wrap:wrap;\n",
              "      gap: 12px;\n",
              "    }\n",
              "\n",
              "    .colab-df-convert {\n",
              "      background-color: #E8F0FE;\n",
              "      border: none;\n",
              "      border-radius: 50%;\n",
              "      cursor: pointer;\n",
              "      display: none;\n",
              "      fill: #1967D2;\n",
              "      height: 32px;\n",
              "      padding: 0 0 0 0;\n",
              "      width: 32px;\n",
              "    }\n",
              "\n",
              "    .colab-df-convert:hover {\n",
              "      background-color: #E2EBFA;\n",
              "      box-shadow: 0px 1px 2px rgba(60, 64, 67, 0.3), 0px 1px 3px 1px rgba(60, 64, 67, 0.15);\n",
              "      fill: #174EA6;\n",
              "    }\n",
              "\n",
              "    [theme=dark] .colab-df-convert {\n",
              "      background-color: #3B4455;\n",
              "      fill: #D2E3FC;\n",
              "    }\n",
              "\n",
              "    [theme=dark] .colab-df-convert:hover {\n",
              "      background-color: #434B5C;\n",
              "      box-shadow: 0px 1px 3px 1px rgba(0, 0, 0, 0.15);\n",
              "      filter: drop-shadow(0px 1px 2px rgba(0, 0, 0, 0.3));\n",
              "      fill: #FFFFFF;\n",
              "    }\n",
              "  </style>\n",
              "\n",
              "      <script>\n",
              "        const buttonEl =\n",
              "          document.querySelector('#df-dda43785-2834-489d-95fa-91bcca2b0fbc button.colab-df-convert');\n",
              "        buttonEl.style.display =\n",
              "          google.colab.kernel.accessAllowed ? 'block' : 'none';\n",
              "\n",
              "        async function convertToInteractive(key) {\n",
              "          const element = document.querySelector('#df-dda43785-2834-489d-95fa-91bcca2b0fbc');\n",
              "          const dataTable =\n",
              "            await google.colab.kernel.invokeFunction('convertToInteractive',\n",
              "                                                     [key], {});\n",
              "          if (!dataTable) return;\n",
              "\n",
              "          const docLinkHtml = 'Like what you see? Visit the ' +\n",
              "            '<a target=\"_blank\" href=https://colab.research.google.com/notebooks/data_table.ipynb>data table notebook</a>'\n",
              "            + ' to learn more about interactive tables.';\n",
              "          element.innerHTML = '';\n",
              "          dataTable['output_type'] = 'display_data';\n",
              "          await google.colab.output.renderOutput(dataTable, element);\n",
              "          const docLink = document.createElement('div');\n",
              "          docLink.innerHTML = docLinkHtml;\n",
              "          element.appendChild(docLink);\n",
              "        }\n",
              "      </script>\n",
              "    </div>\n",
              "  </div>\n",
              "  "
            ]
          },
          "metadata": {},
          "execution_count": 68
        }
      ]
    },
    {
      "cell_type": "markdown",
      "source": [
        "Опыты показывают, что увеличение количества нейронов в слоях увеличивает точность лучше, чем увеличение количества слоев. Так же увеличение количества слоев может привечти к вырождению количества карт признаков, что ведет к ухудшению точности. Но на больших по размеру картинках следует углублять нейросеть для увеличения точности.  "
      ],
      "metadata": {
        "id": "4slYNkC-isrF"
      }
    }
  ]
}