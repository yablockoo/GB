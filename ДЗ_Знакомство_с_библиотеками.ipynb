{
  "cells": [
    {
      "cell_type": "markdown",
      "metadata": {
        "id": "view-in-github",
        "colab_type": "text"
      },
      "source": [
        "<a href=\"https://colab.research.google.com/github/yablockoo/GB/blob/Intensive/%D0%94%D0%97_%D0%97%D0%BD%D0%B0%D0%BA%D0%BE%D0%BC%D1%81%D1%82%D0%B2%D0%BE_%D1%81_%D0%B1%D0%B8%D0%B1%D0%BB%D0%B8%D0%BE%D1%82%D0%B5%D0%BA%D0%B0%D0%BC%D0%B8.ipynb\" target=\"_parent\"><img src=\"https://colab.research.google.com/assets/colab-badge.svg\" alt=\"Open In Colab\"/></a>"
      ]
    },
    {
      "cell_type": "markdown",
      "id": "rubber-sport",
      "metadata": {
        "id": "rubber-sport"
      },
      "source": [
        "### Pandas\n",
        "\n",
        "Для некоторых заданий, возможно, придется обратиться к документации: https://pandas.pydata.org/docs/\n",
        "\n",
        "* Скачайте любой табличный датасет (или создайте тестовый пример самостоятельно), например, с https://www.kaggle.com/datasets\n",
        "\n",
        "*  Загрузите данные и проанализируйте их (используя функции .info и .describe)\n",
        "*  Выведите отдельно интересующую вас колонку и столбец"
      ]
    },
    {
      "cell_type": "markdown",
      "id": "recovered-jordan",
      "metadata": {
        "id": "recovered-jordan"
      },
      "source": [
        "### Numpy\n",
        "\n",
        "Для некоторых заданий, возможно, придется обратиться к документации: https://numpy.org\n",
        "\n",
        "* Создайте вектор (одномерный массив) размера 10, заполненный нулями\n",
        "* Создайте вектор размера 10, заполненный числом 5.8\n",
        "* Создйте массив 3x3x3 со случайными значениями\n",
        "* Создайте 8x8 матрицу и заполнить её в шахматном порядке\n",
        "* Cоздайте матрицу 4 на 4 и заполните ее произвольными числами (понадобиться в дальйнешем)"
      ]
    },
    {
      "cell_type": "markdown",
      "id": "expired-hebrew",
      "metadata": {
        "id": "expired-hebrew"
      },
      "source": [
        "### Scipy\n",
        "\n",
        "\n",
        "* Возьмите интеграл $\\int_{-3}^{10} sin(x)* x^{2} \\,dx $\n",
        "* Найдите определитель, обратную матрицу и собственные значения к матрице из последнего пункта раздела Numpy\n"
      ]
    },
    {
      "cell_type": "markdown",
      "id": "alternate-classification",
      "metadata": {
        "id": "alternate-classification"
      },
      "source": [
        "### Matplotlib/Seaborn\n",
        "\n",
        "\n",
        "* Нарисуйте график sin(x), подпишите оси, добавьте сетку\n",
        "* Нарисуйте график sin(x) и cos(x) на одном subplot'е и на разных, задайте цвета, которые вам больше нравятся"
      ]
    },
    {
      "cell_type": "markdown",
      "source": [
        "\n",
        "\n",
        "---\n",
        "\n"
      ],
      "metadata": {
        "id": "bh-GEbbl7_R-"
      },
      "id": "bh-GEbbl7_R-"
    },
    {
      "cell_type": "markdown",
      "source": [
        "* Скачайте любой табличный датасет (или создайте тестовый пример самостоятельно), например, с https://www.kaggle.com/datasets\n",
        "\n",
        "* Загрузите данные и проанализируйте их (используя функции .info и .describe)\n",
        "\n",
        "* Выведите отдельно интересующую вас колонку и столбец\n"
      ],
      "metadata": {
        "id": "lUDtQxoP72f1"
      },
      "id": "lUDtQxoP72f1"
    },
    {
      "cell_type": "code",
      "execution_count": 4,
      "id": "facial-persian",
      "metadata": {
        "id": "facial-persian",
        "outputId": "dab5ebbb-a94e-4235-cc6c-c5eceea9e8fa",
        "colab": {
          "base_uri": "https://localhost:8080/",
          "height": 371
        }
      },
      "outputs": [
        {
          "output_type": "execute_result",
          "data": {
            "text/plain": [
              "  Menu Category              Menu Items Per Serve Size  Energy (kCal)  \\\n",
              "0  Regular Menu        McVeggie™ Burger          168 g         402.05   \n",
              "1  Regular Menu    McAloo Tikki Burger®          146 g         339.52   \n",
              "2  Regular Menu  McSpicy™ Paneer Burger          199 g         652.76   \n",
              "3  Regular Menu       Spicy Paneer Wrap          250 g         674.68   \n",
              "4  Regular Menu     American Veg Burger          177 g         512.17   \n",
              "\n",
              "   Protein (g)  Total fat (g)  Sat Fat (g)  Trans fat (g)  Cholesterols (mg)  \\\n",
              "0        10.24          13.83         5.34           0.16               2.49   \n",
              "1         8.50          11.31         4.27           0.20               1.47   \n",
              "2        20.29          39.45        17.12           0.18              21.85   \n",
              "3        20.96          39.10        19.73           0.26              40.93   \n",
              "4        15.30          23.45        10.51           0.17              25.24   \n",
              "\n",
              "   Total carbohydrate (g)  Total Sugars (g)  Added Sugars (g)  Sodium (mg)  \n",
              "0                   56.54              7.90              4.49       706.13  \n",
              "1                   50.27              7.05              4.07       545.34  \n",
              "2                   52.33              8.35              5.27      1074.58  \n",
              "3                   59.27              3.50              1.08      1087.46  \n",
              "4                   56.96              7.85              4.76      1051.24  "
            ],
            "text/html": [
              "\n",
              "  <div id=\"df-fdd61b7a-f1c8-49f8-9462-39b67fc68abe\">\n",
              "    <div class=\"colab-df-container\">\n",
              "      <div>\n",
              "<style scoped>\n",
              "    .dataframe tbody tr th:only-of-type {\n",
              "        vertical-align: middle;\n",
              "    }\n",
              "\n",
              "    .dataframe tbody tr th {\n",
              "        vertical-align: top;\n",
              "    }\n",
              "\n",
              "    .dataframe thead th {\n",
              "        text-align: right;\n",
              "    }\n",
              "</style>\n",
              "<table border=\"1\" class=\"dataframe\">\n",
              "  <thead>\n",
              "    <tr style=\"text-align: right;\">\n",
              "      <th></th>\n",
              "      <th>Menu Category</th>\n",
              "      <th>Menu Items</th>\n",
              "      <th>Per Serve Size</th>\n",
              "      <th>Energy (kCal)</th>\n",
              "      <th>Protein (g)</th>\n",
              "      <th>Total fat (g)</th>\n",
              "      <th>Sat Fat (g)</th>\n",
              "      <th>Trans fat (g)</th>\n",
              "      <th>Cholesterols (mg)</th>\n",
              "      <th>Total carbohydrate (g)</th>\n",
              "      <th>Total Sugars (g)</th>\n",
              "      <th>Added Sugars (g)</th>\n",
              "      <th>Sodium (mg)</th>\n",
              "    </tr>\n",
              "  </thead>\n",
              "  <tbody>\n",
              "    <tr>\n",
              "      <th>0</th>\n",
              "      <td>Regular Menu</td>\n",
              "      <td>McVeggie™ Burger</td>\n",
              "      <td>168 g</td>\n",
              "      <td>402.05</td>\n",
              "      <td>10.24</td>\n",
              "      <td>13.83</td>\n",
              "      <td>5.34</td>\n",
              "      <td>0.16</td>\n",
              "      <td>2.49</td>\n",
              "      <td>56.54</td>\n",
              "      <td>7.90</td>\n",
              "      <td>4.49</td>\n",
              "      <td>706.13</td>\n",
              "    </tr>\n",
              "    <tr>\n",
              "      <th>1</th>\n",
              "      <td>Regular Menu</td>\n",
              "      <td>McAloo Tikki Burger®</td>\n",
              "      <td>146 g</td>\n",
              "      <td>339.52</td>\n",
              "      <td>8.50</td>\n",
              "      <td>11.31</td>\n",
              "      <td>4.27</td>\n",
              "      <td>0.20</td>\n",
              "      <td>1.47</td>\n",
              "      <td>50.27</td>\n",
              "      <td>7.05</td>\n",
              "      <td>4.07</td>\n",
              "      <td>545.34</td>\n",
              "    </tr>\n",
              "    <tr>\n",
              "      <th>2</th>\n",
              "      <td>Regular Menu</td>\n",
              "      <td>McSpicy™ Paneer Burger</td>\n",
              "      <td>199 g</td>\n",
              "      <td>652.76</td>\n",
              "      <td>20.29</td>\n",
              "      <td>39.45</td>\n",
              "      <td>17.12</td>\n",
              "      <td>0.18</td>\n",
              "      <td>21.85</td>\n",
              "      <td>52.33</td>\n",
              "      <td>8.35</td>\n",
              "      <td>5.27</td>\n",
              "      <td>1074.58</td>\n",
              "    </tr>\n",
              "    <tr>\n",
              "      <th>3</th>\n",
              "      <td>Regular Menu</td>\n",
              "      <td>Spicy Paneer Wrap</td>\n",
              "      <td>250 g</td>\n",
              "      <td>674.68</td>\n",
              "      <td>20.96</td>\n",
              "      <td>39.10</td>\n",
              "      <td>19.73</td>\n",
              "      <td>0.26</td>\n",
              "      <td>40.93</td>\n",
              "      <td>59.27</td>\n",
              "      <td>3.50</td>\n",
              "      <td>1.08</td>\n",
              "      <td>1087.46</td>\n",
              "    </tr>\n",
              "    <tr>\n",
              "      <th>4</th>\n",
              "      <td>Regular Menu</td>\n",
              "      <td>American Veg Burger</td>\n",
              "      <td>177 g</td>\n",
              "      <td>512.17</td>\n",
              "      <td>15.30</td>\n",
              "      <td>23.45</td>\n",
              "      <td>10.51</td>\n",
              "      <td>0.17</td>\n",
              "      <td>25.24</td>\n",
              "      <td>56.96</td>\n",
              "      <td>7.85</td>\n",
              "      <td>4.76</td>\n",
              "      <td>1051.24</td>\n",
              "    </tr>\n",
              "  </tbody>\n",
              "</table>\n",
              "</div>\n",
              "      <button class=\"colab-df-convert\" onclick=\"convertToInteractive('df-fdd61b7a-f1c8-49f8-9462-39b67fc68abe')\"\n",
              "              title=\"Convert this dataframe to an interactive table.\"\n",
              "              style=\"display:none;\">\n",
              "        \n",
              "  <svg xmlns=\"http://www.w3.org/2000/svg\" height=\"24px\"viewBox=\"0 0 24 24\"\n",
              "       width=\"24px\">\n",
              "    <path d=\"M0 0h24v24H0V0z\" fill=\"none\"/>\n",
              "    <path d=\"M18.56 5.44l.94 2.06.94-2.06 2.06-.94-2.06-.94-.94-2.06-.94 2.06-2.06.94zm-11 1L8.5 8.5l.94-2.06 2.06-.94-2.06-.94L8.5 2.5l-.94 2.06-2.06.94zm10 10l.94 2.06.94-2.06 2.06-.94-2.06-.94-.94-2.06-.94 2.06-2.06.94z\"/><path d=\"M17.41 7.96l-1.37-1.37c-.4-.4-.92-.59-1.43-.59-.52 0-1.04.2-1.43.59L10.3 9.45l-7.72 7.72c-.78.78-.78 2.05 0 2.83L4 21.41c.39.39.9.59 1.41.59.51 0 1.02-.2 1.41-.59l7.78-7.78 2.81-2.81c.8-.78.8-2.07 0-2.86zM5.41 20L4 18.59l7.72-7.72 1.47 1.35L5.41 20z\"/>\n",
              "  </svg>\n",
              "      </button>\n",
              "      \n",
              "  <style>\n",
              "    .colab-df-container {\n",
              "      display:flex;\n",
              "      flex-wrap:wrap;\n",
              "      gap: 12px;\n",
              "    }\n",
              "\n",
              "    .colab-df-convert {\n",
              "      background-color: #E8F0FE;\n",
              "      border: none;\n",
              "      border-radius: 50%;\n",
              "      cursor: pointer;\n",
              "      display: none;\n",
              "      fill: #1967D2;\n",
              "      height: 32px;\n",
              "      padding: 0 0 0 0;\n",
              "      width: 32px;\n",
              "    }\n",
              "\n",
              "    .colab-df-convert:hover {\n",
              "      background-color: #E2EBFA;\n",
              "      box-shadow: 0px 1px 2px rgba(60, 64, 67, 0.3), 0px 1px 3px 1px rgba(60, 64, 67, 0.15);\n",
              "      fill: #174EA6;\n",
              "    }\n",
              "\n",
              "    [theme=dark] .colab-df-convert {\n",
              "      background-color: #3B4455;\n",
              "      fill: #D2E3FC;\n",
              "    }\n",
              "\n",
              "    [theme=dark] .colab-df-convert:hover {\n",
              "      background-color: #434B5C;\n",
              "      box-shadow: 0px 1px 3px 1px rgba(0, 0, 0, 0.15);\n",
              "      filter: drop-shadow(0px 1px 2px rgba(0, 0, 0, 0.3));\n",
              "      fill: #FFFFFF;\n",
              "    }\n",
              "  </style>\n",
              "\n",
              "      <script>\n",
              "        const buttonEl =\n",
              "          document.querySelector('#df-fdd61b7a-f1c8-49f8-9462-39b67fc68abe button.colab-df-convert');\n",
              "        buttonEl.style.display =\n",
              "          google.colab.kernel.accessAllowed ? 'block' : 'none';\n",
              "\n",
              "        async function convertToInteractive(key) {\n",
              "          const element = document.querySelector('#df-fdd61b7a-f1c8-49f8-9462-39b67fc68abe');\n",
              "          const dataTable =\n",
              "            await google.colab.kernel.invokeFunction('convertToInteractive',\n",
              "                                                     [key], {});\n",
              "          if (!dataTable) return;\n",
              "\n",
              "          const docLinkHtml = 'Like what you see? Visit the ' +\n",
              "            '<a target=\"_blank\" href=https://colab.research.google.com/notebooks/data_table.ipynb>data table notebook</a>'\n",
              "            + ' to learn more about interactive tables.';\n",
              "          element.innerHTML = '';\n",
              "          dataTable['output_type'] = 'display_data';\n",
              "          await google.colab.output.renderOutput(dataTable, element);\n",
              "          const docLink = document.createElement('div');\n",
              "          docLink.innerHTML = docLinkHtml;\n",
              "          element.appendChild(docLink);\n",
              "        }\n",
              "      </script>\n",
              "    </div>\n",
              "  </div>\n",
              "  "
            ]
          },
          "metadata": {},
          "execution_count": 4
        }
      ],
      "source": [
        "import pandas as pd\n",
        "\n",
        "data = pd.read_csv('/content/drive/MyDrive/data/India_Menu.csv')\n",
        "data.head(5)"
      ]
    },
    {
      "cell_type": "code",
      "source": [
        "data.info()"
      ],
      "metadata": {
        "id": "islXBBLi9dCx",
        "outputId": "4bf632b5-79fe-4ba7-c342-3ec03db75c02",
        "colab": {
          "base_uri": "https://localhost:8080/"
        }
      },
      "id": "islXBBLi9dCx",
      "execution_count": 5,
      "outputs": [
        {
          "output_type": "stream",
          "name": "stdout",
          "text": [
            "<class 'pandas.core.frame.DataFrame'>\n",
            "RangeIndex: 141 entries, 0 to 140\n",
            "Data columns (total 13 columns):\n",
            " #   Column                  Non-Null Count  Dtype  \n",
            "---  ------                  --------------  -----  \n",
            " 0   Menu Category           141 non-null    object \n",
            " 1   Menu Items              141 non-null    object \n",
            " 2   Per Serve Size          141 non-null    object \n",
            " 3   Energy (kCal)           141 non-null    float64\n",
            " 4   Protein (g)             141 non-null    float64\n",
            " 5   Total fat (g)           141 non-null    float64\n",
            " 6   Sat Fat (g)             141 non-null    float64\n",
            " 7   Trans fat (g)           141 non-null    float64\n",
            " 8   Cholesterols (mg)       141 non-null    float64\n",
            " 9   Total carbohydrate (g)  141 non-null    float64\n",
            " 10  Total Sugars (g)        141 non-null    float64\n",
            " 11  Added Sugars (g)        141 non-null    float64\n",
            " 12  Sodium (mg)             140 non-null    float64\n",
            "dtypes: float64(10), object(3)\n",
            "memory usage: 14.4+ KB\n"
          ]
        }
      ]
    },
    {
      "cell_type": "code",
      "source": [
        "data.describe()"
      ],
      "metadata": {
        "id": "W7LYGZ1I9guw",
        "outputId": "f560eda3-03f4-4170-e392-6ed332615da1",
        "colab": {
          "base_uri": "https://localhost:8080/",
          "height": 361
        }
      },
      "id": "W7LYGZ1I9guw",
      "execution_count": 6,
      "outputs": [
        {
          "output_type": "execute_result",
          "data": {
            "text/plain": [
              "       Energy (kCal)  Protein (g)  Total fat (g)  Sat Fat (g)  Trans fat (g)  \\\n",
              "count     141.000000   141.000000     141.000000   141.000000     141.000000   \n",
              "mean      244.635461     7.493546       9.991702     4.997589       0.687163   \n",
              "std       185.554837     8.336863      10.339511     4.900451       6.326136   \n",
              "min         0.000000     0.000000       0.000000     0.000000       0.000000   \n",
              "25%       116.360000     0.650000       0.460000     0.280000       0.060000   \n",
              "50%       219.360000     4.790000       7.770000     4.270000       0.150000   \n",
              "75%       339.520000    10.880000      14.160000     7.280000       0.220000   \n",
              "max       834.360000    39.470000      45.180000    20.460000      75.260000   \n",
              "\n",
              "       Cholesterols (mg)  Total carbohydrate (g)  Total Sugars (g)  \\\n",
              "count         141.000000              141.000000        141.000000   \n",
              "mean           26.350071               31.190284         15.464894   \n",
              "std            50.334200               20.602044         15.690202   \n",
              "min             0.000000                0.000000          0.000000   \n",
              "25%             1.510000               15.740000          2.330000   \n",
              "50%             8.390000               30.820000          9.160000   \n",
              "75%            31.110000               46.000000         26.950000   \n",
              "max           302.610000               93.840000         64.220000   \n",
              "\n",
              "       Added Sugars (g)  Sodium (mg)  \n",
              "count        141.000000   140.000000  \n",
              "mean          10.336950   362.064143  \n",
              "std           14.283388   473.160490  \n",
              "min            0.000000     0.000000  \n",
              "25%            0.000000    43.895000  \n",
              "50%            3.640000   152.025000  \n",
              "75%           19.230000   534.240000  \n",
              "max           64.220000  2399.490000  "
            ],
            "text/html": [
              "\n",
              "  <div id=\"df-21e224c7-f231-4187-9720-e1f4ab8d25e0\">\n",
              "    <div class=\"colab-df-container\">\n",
              "      <div>\n",
              "<style scoped>\n",
              "    .dataframe tbody tr th:only-of-type {\n",
              "        vertical-align: middle;\n",
              "    }\n",
              "\n",
              "    .dataframe tbody tr th {\n",
              "        vertical-align: top;\n",
              "    }\n",
              "\n",
              "    .dataframe thead th {\n",
              "        text-align: right;\n",
              "    }\n",
              "</style>\n",
              "<table border=\"1\" class=\"dataframe\">\n",
              "  <thead>\n",
              "    <tr style=\"text-align: right;\">\n",
              "      <th></th>\n",
              "      <th>Energy (kCal)</th>\n",
              "      <th>Protein (g)</th>\n",
              "      <th>Total fat (g)</th>\n",
              "      <th>Sat Fat (g)</th>\n",
              "      <th>Trans fat (g)</th>\n",
              "      <th>Cholesterols (mg)</th>\n",
              "      <th>Total carbohydrate (g)</th>\n",
              "      <th>Total Sugars (g)</th>\n",
              "      <th>Added Sugars (g)</th>\n",
              "      <th>Sodium (mg)</th>\n",
              "    </tr>\n",
              "  </thead>\n",
              "  <tbody>\n",
              "    <tr>\n",
              "      <th>count</th>\n",
              "      <td>141.000000</td>\n",
              "      <td>141.000000</td>\n",
              "      <td>141.000000</td>\n",
              "      <td>141.000000</td>\n",
              "      <td>141.000000</td>\n",
              "      <td>141.000000</td>\n",
              "      <td>141.000000</td>\n",
              "      <td>141.000000</td>\n",
              "      <td>141.000000</td>\n",
              "      <td>140.000000</td>\n",
              "    </tr>\n",
              "    <tr>\n",
              "      <th>mean</th>\n",
              "      <td>244.635461</td>\n",
              "      <td>7.493546</td>\n",
              "      <td>9.991702</td>\n",
              "      <td>4.997589</td>\n",
              "      <td>0.687163</td>\n",
              "      <td>26.350071</td>\n",
              "      <td>31.190284</td>\n",
              "      <td>15.464894</td>\n",
              "      <td>10.336950</td>\n",
              "      <td>362.064143</td>\n",
              "    </tr>\n",
              "    <tr>\n",
              "      <th>std</th>\n",
              "      <td>185.554837</td>\n",
              "      <td>8.336863</td>\n",
              "      <td>10.339511</td>\n",
              "      <td>4.900451</td>\n",
              "      <td>6.326136</td>\n",
              "      <td>50.334200</td>\n",
              "      <td>20.602044</td>\n",
              "      <td>15.690202</td>\n",
              "      <td>14.283388</td>\n",
              "      <td>473.160490</td>\n",
              "    </tr>\n",
              "    <tr>\n",
              "      <th>min</th>\n",
              "      <td>0.000000</td>\n",
              "      <td>0.000000</td>\n",
              "      <td>0.000000</td>\n",
              "      <td>0.000000</td>\n",
              "      <td>0.000000</td>\n",
              "      <td>0.000000</td>\n",
              "      <td>0.000000</td>\n",
              "      <td>0.000000</td>\n",
              "      <td>0.000000</td>\n",
              "      <td>0.000000</td>\n",
              "    </tr>\n",
              "    <tr>\n",
              "      <th>25%</th>\n",
              "      <td>116.360000</td>\n",
              "      <td>0.650000</td>\n",
              "      <td>0.460000</td>\n",
              "      <td>0.280000</td>\n",
              "      <td>0.060000</td>\n",
              "      <td>1.510000</td>\n",
              "      <td>15.740000</td>\n",
              "      <td>2.330000</td>\n",
              "      <td>0.000000</td>\n",
              "      <td>43.895000</td>\n",
              "    </tr>\n",
              "    <tr>\n",
              "      <th>50%</th>\n",
              "      <td>219.360000</td>\n",
              "      <td>4.790000</td>\n",
              "      <td>7.770000</td>\n",
              "      <td>4.270000</td>\n",
              "      <td>0.150000</td>\n",
              "      <td>8.390000</td>\n",
              "      <td>30.820000</td>\n",
              "      <td>9.160000</td>\n",
              "      <td>3.640000</td>\n",
              "      <td>152.025000</td>\n",
              "    </tr>\n",
              "    <tr>\n",
              "      <th>75%</th>\n",
              "      <td>339.520000</td>\n",
              "      <td>10.880000</td>\n",
              "      <td>14.160000</td>\n",
              "      <td>7.280000</td>\n",
              "      <td>0.220000</td>\n",
              "      <td>31.110000</td>\n",
              "      <td>46.000000</td>\n",
              "      <td>26.950000</td>\n",
              "      <td>19.230000</td>\n",
              "      <td>534.240000</td>\n",
              "    </tr>\n",
              "    <tr>\n",
              "      <th>max</th>\n",
              "      <td>834.360000</td>\n",
              "      <td>39.470000</td>\n",
              "      <td>45.180000</td>\n",
              "      <td>20.460000</td>\n",
              "      <td>75.260000</td>\n",
              "      <td>302.610000</td>\n",
              "      <td>93.840000</td>\n",
              "      <td>64.220000</td>\n",
              "      <td>64.220000</td>\n",
              "      <td>2399.490000</td>\n",
              "    </tr>\n",
              "  </tbody>\n",
              "</table>\n",
              "</div>\n",
              "      <button class=\"colab-df-convert\" onclick=\"convertToInteractive('df-21e224c7-f231-4187-9720-e1f4ab8d25e0')\"\n",
              "              title=\"Convert this dataframe to an interactive table.\"\n",
              "              style=\"display:none;\">\n",
              "        \n",
              "  <svg xmlns=\"http://www.w3.org/2000/svg\" height=\"24px\"viewBox=\"0 0 24 24\"\n",
              "       width=\"24px\">\n",
              "    <path d=\"M0 0h24v24H0V0z\" fill=\"none\"/>\n",
              "    <path d=\"M18.56 5.44l.94 2.06.94-2.06 2.06-.94-2.06-.94-.94-2.06-.94 2.06-2.06.94zm-11 1L8.5 8.5l.94-2.06 2.06-.94-2.06-.94L8.5 2.5l-.94 2.06-2.06.94zm10 10l.94 2.06.94-2.06 2.06-.94-2.06-.94-.94-2.06-.94 2.06-2.06.94z\"/><path d=\"M17.41 7.96l-1.37-1.37c-.4-.4-.92-.59-1.43-.59-.52 0-1.04.2-1.43.59L10.3 9.45l-7.72 7.72c-.78.78-.78 2.05 0 2.83L4 21.41c.39.39.9.59 1.41.59.51 0 1.02-.2 1.41-.59l7.78-7.78 2.81-2.81c.8-.78.8-2.07 0-2.86zM5.41 20L4 18.59l7.72-7.72 1.47 1.35L5.41 20z\"/>\n",
              "  </svg>\n",
              "      </button>\n",
              "      \n",
              "  <style>\n",
              "    .colab-df-container {\n",
              "      display:flex;\n",
              "      flex-wrap:wrap;\n",
              "      gap: 12px;\n",
              "    }\n",
              "\n",
              "    .colab-df-convert {\n",
              "      background-color: #E8F0FE;\n",
              "      border: none;\n",
              "      border-radius: 50%;\n",
              "      cursor: pointer;\n",
              "      display: none;\n",
              "      fill: #1967D2;\n",
              "      height: 32px;\n",
              "      padding: 0 0 0 0;\n",
              "      width: 32px;\n",
              "    }\n",
              "\n",
              "    .colab-df-convert:hover {\n",
              "      background-color: #E2EBFA;\n",
              "      box-shadow: 0px 1px 2px rgba(60, 64, 67, 0.3), 0px 1px 3px 1px rgba(60, 64, 67, 0.15);\n",
              "      fill: #174EA6;\n",
              "    }\n",
              "\n",
              "    [theme=dark] .colab-df-convert {\n",
              "      background-color: #3B4455;\n",
              "      fill: #D2E3FC;\n",
              "    }\n",
              "\n",
              "    [theme=dark] .colab-df-convert:hover {\n",
              "      background-color: #434B5C;\n",
              "      box-shadow: 0px 1px 3px 1px rgba(0, 0, 0, 0.15);\n",
              "      filter: drop-shadow(0px 1px 2px rgba(0, 0, 0, 0.3));\n",
              "      fill: #FFFFFF;\n",
              "    }\n",
              "  </style>\n",
              "\n",
              "      <script>\n",
              "        const buttonEl =\n",
              "          document.querySelector('#df-21e224c7-f231-4187-9720-e1f4ab8d25e0 button.colab-df-convert');\n",
              "        buttonEl.style.display =\n",
              "          google.colab.kernel.accessAllowed ? 'block' : 'none';\n",
              "\n",
              "        async function convertToInteractive(key) {\n",
              "          const element = document.querySelector('#df-21e224c7-f231-4187-9720-e1f4ab8d25e0');\n",
              "          const dataTable =\n",
              "            await google.colab.kernel.invokeFunction('convertToInteractive',\n",
              "                                                     [key], {});\n",
              "          if (!dataTable) return;\n",
              "\n",
              "          const docLinkHtml = 'Like what you see? Visit the ' +\n",
              "            '<a target=\"_blank\" href=https://colab.research.google.com/notebooks/data_table.ipynb>data table notebook</a>'\n",
              "            + ' to learn more about interactive tables.';\n",
              "          element.innerHTML = '';\n",
              "          dataTable['output_type'] = 'display_data';\n",
              "          await google.colab.output.renderOutput(dataTable, element);\n",
              "          const docLink = document.createElement('div');\n",
              "          docLink.innerHTML = docLinkHtml;\n",
              "          element.appendChild(docLink);\n",
              "        }\n",
              "      </script>\n",
              "    </div>\n",
              "  </div>\n",
              "  "
            ]
          },
          "metadata": {},
          "execution_count": 6
        }
      ]
    },
    {
      "cell_type": "code",
      "source": [
        "data['Energy (kCal)']"
      ],
      "metadata": {
        "id": "Yy0BGoXL9jlW",
        "outputId": "9247475f-0e0f-4cdc-cd08-1d7f45de9854",
        "colab": {
          "base_uri": "https://localhost:8080/"
        }
      },
      "id": "Yy0BGoXL9jlW",
      "execution_count": 8,
      "outputs": [
        {
          "output_type": "execute_result",
          "data": {
            "text/plain": [
              "0      402.05\n",
              "1      339.52\n",
              "2      652.76\n",
              "3      674.68\n",
              "4      512.17\n",
              "        ...  \n",
              "136     11.23\n",
              "137     86.40\n",
              "138     51.03\n",
              "139     45.08\n",
              "140     72.25\n",
              "Name: Energy (kCal), Length: 141, dtype: float64"
            ]
          },
          "metadata": {},
          "execution_count": 8
        }
      ]
    },
    {
      "cell_type": "code",
      "source": [
        "data.iloc[14]"
      ],
      "metadata": {
        "id": "xYoTi5ln9xdZ",
        "outputId": "579f88d7-8ba7-4fc2-f513-2833b7d01875",
        "colab": {
          "base_uri": "https://localhost:8080/"
        }
      },
      "id": "xYoTi5ln9xdZ",
      "execution_count": 10,
      "outputs": [
        {
          "output_type": "execute_result",
          "data": {
            "text/plain": [
              "Menu Category                     Regular Menu\n",
              "Menu Items                Chicken Kebab Burger\n",
              "Per Serve Size                           138 g\n",
              "Energy (kCal)                           357.05\n",
              "Protein (g)                               8.64\n",
              "Total fat (g)                            14.02\n",
              "Sat Fat (g)                               4.84\n",
              "Trans fat (g)                             0.13\n",
              "Cholesterols (mg)                         1.51\n",
              "Total carbohydrate (g)                    47.9\n",
              "Total Sugars (g)                          5.08\n",
              "Added Sugars (g)                          3.49\n",
              "Sodium (mg)                             548.79\n",
              "Name: 14, dtype: object"
            ]
          },
          "metadata": {},
          "execution_count": 10
        }
      ]
    },
    {
      "cell_type": "markdown",
      "source": [
        "\n",
        "\n",
        "---\n",
        "\n",
        "\n",
        "* Создайте вектор (одномерный массив) размера 10, заполненный нулями\n",
        "\n",
        "* Создайте вектор размера 10, заполненный числом 5.8\n",
        "\n",
        "* Создйте массив 3x3x3 со случайными значениями\n",
        "\n",
        "* Создайте 8x8 матрицу и заполнить её в шахматном порядке\n",
        "\n",
        "* Cоздайте матрицу 4 на 4 и заполните ее произвольными числами (понадобиться в дальйнешем)\n"
      ],
      "metadata": {
        "id": "0G-w1jzt99u7"
      },
      "id": "0G-w1jzt99u7"
    },
    {
      "cell_type": "code",
      "source": [
        "import numpy as np\n",
        "\n",
        "zeros_10 = np.zeros((1, 10))\n",
        "zeros_10"
      ],
      "metadata": {
        "id": "aW1Q1br29-Dq",
        "outputId": "b9dcbb52-b9b0-45bf-c1f1-f231a4f4459e",
        "colab": {
          "base_uri": "https://localhost:8080/"
        }
      },
      "id": "aW1Q1br29-Dq",
      "execution_count": 13,
      "outputs": [
        {
          "output_type": "execute_result",
          "data": {
            "text/plain": [
              "array([[0., 0., 0., 0., 0., 0., 0., 0., 0., 0.]])"
            ]
          },
          "metadata": {},
          "execution_count": 13
        }
      ]
    },
    {
      "cell_type": "code",
      "source": [
        "five_eight = np.array([5.8] * 10)\n",
        "five_eight"
      ],
      "metadata": {
        "id": "Y1-8LCjl-4OG",
        "outputId": "ca63291b-6be6-4c24-f490-0086618508b0",
        "colab": {
          "base_uri": "https://localhost:8080/"
        }
      },
      "id": "Y1-8LCjl-4OG",
      "execution_count": 15,
      "outputs": [
        {
          "output_type": "execute_result",
          "data": {
            "text/plain": [
              "array([5.8, 5.8, 5.8, 5.8, 5.8, 5.8, 5.8, 5.8, 5.8, 5.8])"
            ]
          },
          "metadata": {},
          "execution_count": 15
        }
      ]
    },
    {
      "cell_type": "code",
      "source": [
        "rand_cube = np.random.sample((3, 3, 3))\n",
        "rand_cube"
      ],
      "metadata": {
        "id": "QV7NY5SY_XUN",
        "outputId": "b3431d83-12c7-44c7-ee75-4a0566927990",
        "colab": {
          "base_uri": "https://localhost:8080/"
        }
      },
      "id": "QV7NY5SY_XUN",
      "execution_count": 17,
      "outputs": [
        {
          "output_type": "execute_result",
          "data": {
            "text/plain": [
              "array([[[0.16335472, 0.28613374, 0.71122429],\n",
              "        [0.14430531, 0.97015224, 0.26008682],\n",
              "        [0.3282585 , 0.77621252, 0.78708285]],\n",
              "\n",
              "       [[0.0607168 , 0.62155035, 0.34132569],\n",
              "        [0.89152087, 0.91667156, 0.77810514],\n",
              "        [0.43178757, 0.78139588, 0.41749701]],\n",
              "\n",
              "       [[0.40802826, 0.63363603, 0.3868974 ],\n",
              "        [0.25523774, 0.89208809, 0.97228013],\n",
              "        [0.67715749, 0.44781414, 0.91679137]]])"
            ]
          },
          "metadata": {},
          "execution_count": 17
        }
      ]
    },
    {
      "cell_type": "code",
      "source": [
        "chess_fill = np.zeros((8, 8))\n",
        "\n",
        "val = 1\n",
        "for i in range(len(chess_fill)):\n",
        "  for j in range(len(chess_fill[i])):\n",
        "    if (i + j) % 2 == 0:\n",
        "      chess_fill[i][j] = val \n",
        "      val += 1\n",
        "\n",
        "chess_fill"
      ],
      "metadata": {
        "id": "mzkhXBEy_3CP",
        "outputId": "4cbce945-cea9-4b04-9d06-c45545e34100",
        "colab": {
          "base_uri": "https://localhost:8080/"
        }
      },
      "id": "mzkhXBEy_3CP",
      "execution_count": 18,
      "outputs": [
        {
          "output_type": "execute_result",
          "data": {
            "text/plain": [
              "array([[ 1.,  0.,  2.,  0.,  3.,  0.,  4.,  0.],\n",
              "       [ 0.,  5.,  0.,  6.,  0.,  7.,  0.,  8.],\n",
              "       [ 9.,  0., 10.,  0., 11.,  0., 12.,  0.],\n",
              "       [ 0., 13.,  0., 14.,  0., 15.,  0., 16.],\n",
              "       [17.,  0., 18.,  0., 19.,  0., 20.,  0.],\n",
              "       [ 0., 21.,  0., 22.,  0., 23.,  0., 24.],\n",
              "       [25.,  0., 26.,  0., 27.,  0., 28.,  0.],\n",
              "       [ 0., 29.,  0., 30.,  0., 31.,  0., 32.]])"
            ]
          },
          "metadata": {},
          "execution_count": 18
        }
      ]
    },
    {
      "cell_type": "code",
      "source": [
        "a = np.random.sample((4, 4))\n",
        "a"
      ],
      "metadata": {
        "id": "M-QGqrpHBahK",
        "outputId": "2b655234-2ff2-4a7e-8b04-dc2f227f4f3d",
        "colab": {
          "base_uri": "https://localhost:8080/"
        }
      },
      "id": "M-QGqrpHBahK",
      "execution_count": 19,
      "outputs": [
        {
          "output_type": "execute_result",
          "data": {
            "text/plain": [
              "array([[0.01759048, 0.94166356, 0.96901029, 0.21284856],\n",
              "       [0.52432005, 0.92869303, 0.88349076, 0.00412528],\n",
              "       [0.91499438, 0.55843606, 0.07525388, 0.96337891],\n",
              "       [0.74831431, 0.64527155, 0.23228629, 0.68230591]])"
            ]
          },
          "metadata": {},
          "execution_count": 19
        }
      ]
    },
    {
      "cell_type": "markdown",
      "source": [
        "\n",
        "\n",
        "---\n",
        "\n"
      ],
      "metadata": {
        "id": "kWdyvKwaBk35"
      },
      "id": "kWdyvKwaBk35"
    },
    {
      "cell_type": "markdown",
      "source": [
        "* Возьмите интеграл $\\int_{-3}^{10} sin(x)* x^{2} \\,dx $\n",
        "* Найдите определитель, обратную матрицу и собственные значения к матрице из последнего пункта раздела Numpy"
      ],
      "metadata": {
        "id": "SMEQ9beJBujR"
      },
      "id": "SMEQ9beJBujR"
    },
    {
      "cell_type": "code",
      "source": [
        "from math import sin\n",
        "from scipy import integrate\n",
        "from scipy import linalg\n",
        "\n",
        "f1 = lambda x: sin(x) * x**2\n",
        "integrate.quad(f1, -3, 10)"
      ],
      "metadata": {
        "id": "NLE8Y76OBs4t",
        "outputId": "83a255f6-0b4e-4a12-a6b1-f6b520f6f57e",
        "colab": {
          "base_uri": "https://localhost:8080/"
        }
      },
      "id": "NLE8Y76OBs4t",
      "execution_count": 20,
      "outputs": [
        {
          "output_type": "execute_result",
          "data": {
            "text/plain": [
              "(63.57192010714263, 2.177803784883395e-12)"
            ]
          },
          "metadata": {},
          "execution_count": 20
        }
      ]
    },
    {
      "cell_type": "code",
      "source": [
        "linalg.det(a)"
      ],
      "metadata": {
        "id": "1u1TnLg0C81E",
        "outputId": "aac551ac-e388-40ce-920f-f96260124cd8",
        "colab": {
          "base_uri": "https://localhost:8080/"
        }
      },
      "id": "1u1TnLg0C81E",
      "execution_count": 22,
      "outputs": [
        {
          "output_type": "execute_result",
          "data": {
            "text/plain": [
              "-0.04015846157518563"
            ]
          },
          "metadata": {},
          "execution_count": 22
        }
      ]
    },
    {
      "cell_type": "code",
      "source": [
        "linalg.inv(a)"
      ],
      "metadata": {
        "id": "_ZG6H0qqDCzp",
        "outputId": "815c9484-a728-4743-f198-7de3b3708725",
        "colab": {
          "base_uri": "https://localhost:8080/"
        }
      },
      "id": "_ZG6H0qqDCzp",
      "execution_count": 23,
      "outputs": [
        {
          "output_type": "execute_result",
          "data": {
            "text/plain": [
              "array([[ -1.31428523,   2.19281519,   2.99116799,  -3.8266273 ],\n",
              "       [ -0.10998947,  -3.08353298, -11.1527919 ,  15.80009186],\n",
              "       [  0.88979626,   3.07431323,   9.93010812, -14.3169374 ],\n",
              "       [  1.2425278 ,  -0.53541922,   3.88625914,  -4.40594395]])"
            ]
          },
          "metadata": {},
          "execution_count": 23
        }
      ]
    },
    {
      "cell_type": "code",
      "source": [
        "linalg.eig(a)"
      ],
      "metadata": {
        "id": "ENomGcnrCuKY",
        "outputId": "5f1338a9-5a1e-4b01-e12e-4d14b4eee496",
        "colab": {
          "base_uri": "https://localhost:8080/"
        }
      },
      "id": "ENomGcnrCuKY",
      "execution_count": 21,
      "outputs": [
        {
          "output_type": "execute_result",
          "data": {
            "text/plain": [
              "(array([ 2.33133811+0.j        , -0.68212665+0.j        ,\n",
              "         0.02731592+0.15654546j,  0.02731592-0.15654546j]),\n",
              " array([[ 0.47310625+0.j        ,  0.78085954+0.j        ,\n",
              "         -0.10932623+0.14240738j, -0.10932623-0.14240738j],\n",
              "        [ 0.51004769+0.j        ,  0.02851205+0.j        ,\n",
              "          0.67422777+0.j        ,  0.67422777-0.j        ],\n",
              "        [ 0.52670808+0.j        , -0.51374231+0.j        ,\n",
              "         -0.62177343+0.03606424j, -0.62177343-0.03606424j],\n",
              "        [ 0.48846742+0.j        , -0.35427995+0.j        ,\n",
              "         -0.26191081-0.23808556j, -0.26191081+0.23808556j]]))"
            ]
          },
          "metadata": {},
          "execution_count": 21
        }
      ]
    }
  ],
  "metadata": {
    "kernelspec": {
      "display_name": "Python 3",
      "language": "python",
      "name": "python3"
    },
    "language_info": {
      "codemirror_mode": {
        "name": "ipython",
        "version": 3
      },
      "file_extension": ".py",
      "mimetype": "text/x-python",
      "name": "python",
      "nbconvert_exporter": "python",
      "pygments_lexer": "ipython3",
      "version": "3.8.3"
    },
    "colab": {
      "name": "ДЗ. Знакомство с библиотеками.ipynb",
      "provenance": [],
      "include_colab_link": true
    }
  },
  "nbformat": 4,
  "nbformat_minor": 5
}