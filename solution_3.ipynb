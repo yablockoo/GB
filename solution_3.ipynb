{
  "nbformat": 4,
  "nbformat_minor": 0,
  "metadata": {
    "colab": {
      "name": "solution_3.ipynb",
      "provenance": [],
      "authorship_tag": "ABX9TyM1+MXkgVKIJHywg22pSml2",
      "include_colab_link": true
    },
    "kernelspec": {
      "name": "python3",
      "display_name": "Python 3"
    },
    "language_info": {
      "name": "python"
    }
  },
  "cells": [
    {
      "cell_type": "markdown",
      "metadata": {
        "id": "view-in-github",
        "colab_type": "text"
      },
      "source": [
        "<a href=\"https://colab.research.google.com/github/yablockoo/GB/blob/Mathstat/solution_3.ipynb\" target=\"_parent\"><img src=\"https://colab.research.google.com/assets/colab-badge.svg\" alt=\"Open In Colab\"/></a>"
      ]
    },
    {
      "cell_type": "code",
      "metadata": {
        "id": "5GTxGYIGNwzC"
      },
      "source": [
        "import numpy as np\n",
        "import pandas as pd"
      ],
      "execution_count": 7,
      "outputs": []
    },
    {
      "cell_type": "markdown",
      "metadata": {
        "id": "hRT29AZaKlg1"
      },
      "source": [
        "__Задача 1__\n",
        "\n",
        "Даны значения зарплат из выборки выпускников: \n",
        "```\n",
        "100, 80, 75, 77, 89, 33, 45, 25, 65, 17, 30, 230, 24, 57, 55, 70, 75, 65, 84, 90, 150\n",
        "```\n",
        "Используя только встроенные питоновские функции и структуры данных (т.е. без библиотек `numpy`, `pandas` и др.), \n",
        "посчитайте (несмещённое) среднее квадратичное отклонение для данной выборки.\n"
      ]
    },
    {
      "cell_type": "code",
      "metadata": {
        "colab": {
          "base_uri": "https://localhost:8080/"
        },
        "id": "63arWmC2Kt93",
        "outputId": "1dff4573-0e04-4dd1-d792-5853f3ef4ef2"
      },
      "source": [
        "a = [100, 80, 75, 77, 89, 33, 45, 25, 65, 17, 30, 230, 24, 57, 55, 70, 75, 65, 84, 90, 150]\n",
        "\n",
        "mean = sum(a) / len(a)\n",
        "\n",
        "v = 0\n",
        "for el in a:\n",
        "  v += (el - mean) ** 2\n",
        "variance = 1 / (len(a) - 1) * v\n",
        "\n",
        "std = variance ** 0.5\n",
        "\n",
        "std"
      ],
      "execution_count": 5,
      "outputs": [
        {
          "output_type": "execute_result",
          "data": {
            "text/plain": [
              "47.34795213553139"
            ]
          },
          "metadata": {},
          "execution_count": 5
        }
      ]
    },
    {
      "cell_type": "code",
      "metadata": {
        "colab": {
          "base_uri": "https://localhost:8080/"
        },
        "id": "w3fIvAHxNtQ_",
        "outputId": "b3358ddd-fa31-43b5-8466-207d6bc38834"
      },
      "source": [
        "np.std(a, ddof=1)"
      ],
      "execution_count": 9,
      "outputs": [
        {
          "output_type": "execute_result",
          "data": {
            "text/plain": [
              "47.347952135531386"
            ]
          },
          "metadata": {},
          "execution_count": 9
        }
      ]
    },
    {
      "cell_type": "markdown",
      "metadata": {
        "id": "WUYlVw9kN9_2"
      },
      "source": [
        "\n",
        "__Задача 2__\n",
        "\n",
        "Найдите число выбросов в выборке из задачи 1. Для определения выбросов используйте методику как при построении \"усов\" в `boxplot`, однако, как и в задаче 1, пользоваться можно только встроенными функциями и структурами данных."
      ]
    },
    {
      "cell_type": "code",
      "metadata": {
        "colab": {
          "base_uri": "https://localhost:8080/"
        },
        "id": "ipznRo3DN8i-",
        "outputId": "765522eb-6ff5-4889-8cb2-c97e7783ddc6"
      },
      "source": [
        "sa = sorted(a)\n",
        "\n",
        "def quantile(ar: list, q: int):\n",
        "  if len(ar) % 4 == 0:\n",
        "    return ar[q * len(ar) // 4 - 1]\n",
        "  else:\n",
        "    return ar[q * len(ar) // 4]\n",
        "\n",
        "q1 = quantile(sa, 1)\n",
        "q3 = quantile(sa, 3)\n",
        "\n",
        "q1, q3"
      ],
      "execution_count": 11,
      "outputs": [
        {
          "output_type": "execute_result",
          "data": {
            "text/plain": [
              "(45, 84)"
            ]
          },
          "metadata": {},
          "execution_count": 11
        }
      ]
    },
    {
      "cell_type": "code",
      "metadata": {
        "colab": {
          "base_uri": "https://localhost:8080/"
        },
        "id": "B2wC-s4QSJ5W",
        "outputId": "f700fd5a-29ce-436e-b604-a00a65a131ac"
      },
      "source": [
        "np.quantile(sa, [0.25, 0.75])"
      ],
      "execution_count": 12,
      "outputs": [
        {
          "output_type": "execute_result",
          "data": {
            "text/plain": [
              "array([45., 84.])"
            ]
          },
          "metadata": {},
          "execution_count": 12
        }
      ]
    },
    {
      "cell_type": "code",
      "metadata": {
        "colab": {
          "base_uri": "https://localhost:8080/"
        },
        "id": "Q3C31rmKSXbO",
        "outputId": "d4b92bab-fc66-4562-8793-8ac0aff47a8f"
      },
      "source": [
        "iqr = q3 - q1\n",
        "\n",
        "mustache = [q1 - 1.5 * iqr, q3 + 1.5 * iqr]\n",
        "mustache"
      ],
      "execution_count": 14,
      "outputs": [
        {
          "output_type": "execute_result",
          "data": {
            "text/plain": [
              "[-13.5, 142.5]"
            ]
          },
          "metadata": {},
          "execution_count": 14
        }
      ]
    },
    {
      "cell_type": "code",
      "metadata": {
        "colab": {
          "base_uri": "https://localhost:8080/"
        },
        "id": "V_mK8h0HUY7Z",
        "outputId": "5d9be834-df1d-4e01-ac01-7fa1114498cf"
      },
      "source": [
        "outliers = []\n",
        "for el in sa:\n",
        "  if mustache[0] < el > mustache[1]:\n",
        "    outliers.append(el)\n",
        "\n",
        "outliers"
      ],
      "execution_count": 18,
      "outputs": [
        {
          "output_type": "execute_result",
          "data": {
            "text/plain": [
              "[150, 230]"
            ]
          },
          "metadata": {},
          "execution_count": 18
        }
      ]
    },
    {
      "cell_type": "code",
      "metadata": {
        "colab": {
          "base_uri": "https://localhost:8080/"
        },
        "id": "1F578Hh9VVtk",
        "outputId": "80958944-b4c4-4e9c-b51f-073fb65ec641"
      },
      "source": [
        "print(f'Ответ: {len(outliers)} выброса')"
      ],
      "execution_count": 19,
      "outputs": [
        {
          "output_type": "stream",
          "name": "stdout",
          "text": [
            "Ответ: 2\n"
          ]
        }
      ]
    },
    {
      "cell_type": "markdown",
      "metadata": {
        "id": "I5NhDsL3Vo6H"
      },
      "source": [
        "\n",
        "__Задача 3__\n",
        "\n",
        "В университет на факультет A поступило 100 человек, на факультет B - 90 человек и на факультет C - 45 человек. Вероятность того, что студент с факультета A сдаст первую сессию, равна 0.6. Для студента с факультета B эта вероятность равна 0.7, а для студента с факультета C - 0.8. Случайным образом выбирается студент, сдавший первую сессию. Какое событие наиболее вероятно:\n",
        "1. студент учится на факультете A,\n",
        "2. студент учится на факультете B,\n",
        "3. студент учится на факультете C?\n",
        "\n",
        "_Замечание_: да, эта задача не на тему статистики, но тема важная, и её стоит иногда освежать в памяти."
      ]
    },
    {
      "cell_type": "code",
      "metadata": {
        "colab": {
          "base_uri": "https://localhost:8080/"
        },
        "id": "So16UK80Vvzx",
        "outputId": "0fb9baec-5a91-407b-efb5-f34621f99fde"
      },
      "source": [
        "a = 100\n",
        "b = 90\n",
        "c = 45\n",
        "\n",
        "psa = 0.5\n",
        "psb = 0.6\n",
        "psc = 0.7\n",
        "\n",
        "pa = a / (a + b + c)\n",
        "pb = b / (a + b + c)\n",
        "pc = c / (a + b + c)\n",
        "\n",
        "pa, pb, pc"
      ],
      "execution_count": 21,
      "outputs": [
        {
          "output_type": "execute_result",
          "data": {
            "text/plain": [
              "(0.425531914893617, 0.3829787234042553, 0.19148936170212766)"
            ]
          },
          "metadata": {},
          "execution_count": 21
        }
      ]
    },
    {
      "cell_type": "markdown",
      "metadata": {
        "id": "a_jY_YjxWsP_"
      },
      "source": [
        "По формуле полной вероятности:"
      ]
    },
    {
      "cell_type": "code",
      "metadata": {
        "colab": {
          "base_uri": "https://localhost:8080/"
        },
        "id": "ZnlsBXVLWrCB",
        "outputId": "5a8054f3-eae9-48b0-b8b3-818ae5badd7a"
      },
      "source": [
        "ps = psa * pa + psb * pb + psc * pc\n",
        "ps"
      ],
      "execution_count": 22,
      "outputs": [
        {
          "output_type": "execute_result",
          "data": {
            "text/plain": [
              "0.5765957446808511"
            ]
          },
          "metadata": {},
          "execution_count": 22
        }
      ]
    },
    {
      "cell_type": "markdown",
      "metadata": {
        "id": "m9p6_N_oXPvB"
      },
      "source": [
        "Применим формулу Баеса:"
      ]
    },
    {
      "cell_type": "code",
      "metadata": {
        "colab": {
          "base_uri": "https://localhost:8080/"
        },
        "id": "9eoWxqwfXUrj",
        "outputId": "6ad6f21a-13fa-4568-b4c8-bb0f5ae2e00e"
      },
      "source": [
        "pas = psa * pa / ps\n",
        "pbs = psb * pb / ps\n",
        "pcs = psc * pc / ps\n",
        "\n",
        "pas, pbs, pcs"
      ],
      "execution_count": 23,
      "outputs": [
        {
          "output_type": "execute_result",
          "data": {
            "text/plain": [
              "(0.36900369003690037, 0.3985239852398524, 0.23247232472324722)"
            ]
          },
          "metadata": {},
          "execution_count": 23
        }
      ]
    },
    {
      "cell_type": "markdown",
      "metadata": {
        "id": "RDn5A1jPYDHT"
      },
      "source": [
        "Ответ: вероятнее всего, что сутдент учится на факультете В.\n"
      ]
    }
  ]
}